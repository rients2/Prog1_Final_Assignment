{
 "cells": [
  {
   "cell_type": "markdown",
   "metadata": {},
   "source": [
    "## Final Assignment \n",
    "© 2022 \n",
    "Author: Rients Dalstra"
   ]
  },
  {
   "cell_type": "code",
   "execution_count": 65,
   "metadata": {
    "ExecuteTime": {
     "end_time": "2022-01-31T17:33:13.330844Z",
     "start_time": "2022-01-31T17:33:13.311841Z"
    }
   },
   "outputs": [
    {
     "data": {
      "application/javascript": "\n(function(root) {\n  function now() {\n    return new Date();\n  }\n\n  var force = true;\n\n  if (typeof root._bokeh_onload_callbacks === \"undefined\" || force === true) {\n    root._bokeh_onload_callbacks = [];\n    root._bokeh_is_loading = undefined;\n  }\n\n  if (typeof (root._bokeh_timeout) === \"undefined\" || force === true) {\n    root._bokeh_timeout = Date.now() + 5000;\n    root._bokeh_failed_load = false;\n  }\n\n  function run_callbacks() {\n    try {\n      root._bokeh_onload_callbacks.forEach(function(callback) {\n        if (callback != null)\n          callback();\n      });\n    } finally {\n      delete root._bokeh_onload_callbacks\n    }\n    console.debug(\"Bokeh: all callbacks have finished\");\n  }\n\n  function load_libs(css_urls, js_urls, js_modules, callback) {\n    if (css_urls == null) css_urls = [];\n    if (js_urls == null) js_urls = [];\n    if (js_modules == null) js_modules = [];\n\n    root._bokeh_onload_callbacks.push(callback);\n    if (root._bokeh_is_loading > 0) {\n      console.debug(\"Bokeh: BokehJS is being loaded, scheduling callback at\", now());\n      return null;\n    }\n    if (js_urls.length === 0 && js_modules.length === 0) {\n      run_callbacks();\n      return null;\n    }\n    console.debug(\"Bokeh: BokehJS not loaded, scheduling load and callback at\", now());\n    root._bokeh_is_loading = css_urls.length + js_urls.length + js_modules.length;\n\n    function on_load() {\n      root._bokeh_is_loading--;\n      if (root._bokeh_is_loading === 0) {\n        console.debug(\"Bokeh: all BokehJS libraries/stylesheets loaded\");\n        run_callbacks()\n      }\n    }\n\n    function on_error() {\n      console.error(\"failed to load \" + url);\n    }\n\n    for (var i = 0; i < css_urls.length; i++) {\n      var url = css_urls[i];\n      const element = document.createElement(\"link\");\n      element.onload = on_load;\n      element.onerror = on_error;\n      element.rel = \"stylesheet\";\n      element.type = \"text/css\";\n      element.href = url;\n      console.debug(\"Bokeh: injecting link tag for BokehJS stylesheet: \", url);\n      document.body.appendChild(element);\n    }\n\n    var skip = [];\n    if (window.requirejs) {\n      window.requirejs.config({'packages': {}, 'paths': {'plotly': 'https://cdn.plot.ly/plotly-latest.min'}, 'shim': {}});\n      \n      require([\"plotly\"], function(Plotly) {\n\twindow.Plotly = Plotly\n      })\n      \n    }\n    if (((window['Plotly'] !== undefined) && (!(window['Plotly'] instanceof HTMLElement))) || window.requirejs) {\n      var urls = ['https://cdn.plot.ly/plotly-latest.min.js'];\n      for (var i = 0; i < urls.length; i++) {\n        skip.push(urls[i])\n      }\n    }\n    for (var i = 0; i < js_urls.length; i++) {\n      var url = js_urls[i];\n      if (skip.indexOf(url) >= 0) { on_load(); continue; }\n      var element = document.createElement('script');\n      element.onload = on_load;\n      element.onerror = on_error;\n      element.async = false;\n      element.src = url;\n      console.debug(\"Bokeh: injecting script tag for BokehJS library: \", url);\n      document.head.appendChild(element);\n    }\n    for (var i = 0; i < js_modules.length; i++) {\n      var url = js_modules[i];\n      if (skip.indexOf(url) >= 0) { on_load(); continue; }\n      var element = document.createElement('script');\n      element.onload = on_load;\n      element.onerror = on_error;\n      element.async = false;\n      element.src = url;\n      element.type = \"module\";\n      console.debug(\"Bokeh: injecting script tag for BokehJS library: \", url);\n      document.head.appendChild(element);\n    }\n    if (!js_urls.length && !js_modules.length) {\n      on_load()\n    }\n  };\n\n  function inject_raw_css(css) {\n    const element = document.createElement(\"style\");\n    element.appendChild(document.createTextNode(css));\n    document.body.appendChild(element);\n  }\n\n  var js_urls = [\"https://code.jquery.com/jquery-3.4.1.min.js\", \"https://cdn.plot.ly/plotly-latest.min.js\", \"https://cdn.bokeh.org/bokeh/release/bokeh-2.3.3.min.js\", \"https://cdn.bokeh.org/bokeh/release/bokeh-widgets-2.3.3.min.js\", \"https://cdn.bokeh.org/bokeh/release/bokeh-tables-2.3.3.min.js\", \"https://unpkg.com/@holoviz/panel@0.12.1/dist/panel.min.js\"];\n  var js_modules = [];\n  var css_urls = [\"https://unpkg.com/@holoviz/panel@0.12.1/dist/css/alerts.css\", \"https://unpkg.com/@holoviz/panel@0.12.1/dist/css/card.css\", \"https://unpkg.com/@holoviz/panel@0.12.1/dist/css/dataframe.css\", \"https://unpkg.com/@holoviz/panel@0.12.1/dist/css/json.css\", \"https://unpkg.com/@holoviz/panel@0.12.1/dist/css/loading.css\", \"https://unpkg.com/@holoviz/panel@0.12.1/dist/css/markdown.css\", \"https://unpkg.com/@holoviz/panel@0.12.1/dist/css/widgets.css\"];\n  var inline_js = [\n    function(Bokeh) {\n      inject_raw_css(\"\\n    .bk.pn-loading.arcs:before {\\n      background-image: url(\\\"data:image/svg+xml;base64,PHN2ZyB4bWxucz0iaHR0cDovL3d3dy53My5vcmcvMjAwMC9zdmciIHhtbG5zOnhsaW5rPSJodHRwOi8vd3d3LnczLm9yZy8xOTk5L3hsaW5rIiBzdHlsZT0ibWFyZ2luOiBhdXRvOyBiYWNrZ3JvdW5kOiBub25lOyBkaXNwbGF5OiBibG9jazsgc2hhcGUtcmVuZGVyaW5nOiBhdXRvOyIgdmlld0JveD0iMCAwIDEwMCAxMDAiIHByZXNlcnZlQXNwZWN0UmF0aW89InhNaWRZTWlkIj4gIDxjaXJjbGUgY3g9IjUwIiBjeT0iNTAiIHI9IjMyIiBzdHJva2Utd2lkdGg9IjgiIHN0cm9rZT0iI2MzYzNjMyIgc3Ryb2tlLWRhc2hhcnJheT0iNTAuMjY1NDgyNDU3NDM2NjkgNTAuMjY1NDgyNDU3NDM2NjkiIGZpbGw9Im5vbmUiIHN0cm9rZS1saW5lY2FwPSJyb3VuZCI+ICAgIDxhbmltYXRlVHJhbnNmb3JtIGF0dHJpYnV0ZU5hbWU9InRyYW5zZm9ybSIgdHlwZT0icm90YXRlIiByZXBlYXRDb3VudD0iaW5kZWZpbml0ZSIgZHVyPSIxcyIga2V5VGltZXM9IjA7MSIgdmFsdWVzPSIwIDUwIDUwOzM2MCA1MCA1MCI+PC9hbmltYXRlVHJhbnNmb3JtPiAgPC9jaXJjbGU+PC9zdmc+\\\")\\n    }\\n    \");\n    },\n    function(Bokeh) {\n      Bokeh.set_log_level(\"info\");\n    },\n    function(Bokeh) {} // ensure no trailing comma for IE\n  ];\n\n  function run_inline_js() {\n    if ((root.Bokeh !== undefined) || (force === true)) {\n      for (var i = 0; i < inline_js.length; i++) {\n        inline_js[i].call(root, root.Bokeh);\n      }} else if (Date.now() < root._bokeh_timeout) {\n      setTimeout(run_inline_js, 100);\n    } else if (!root._bokeh_failed_load) {\n      console.log(\"Bokeh: BokehJS failed to load within specified timeout.\");\n      root._bokeh_failed_load = true;\n    }\n  }\n\n  if (root._bokeh_is_loading === 0) {\n    console.debug(\"Bokeh: BokehJS loaded, going straight to plotting\");\n    run_inline_js();\n  } else {\n    load_libs(css_urls, js_urls, js_modules, function() {\n      console.debug(\"Bokeh: BokehJS plotting callback run at\", now());\n      run_inline_js();\n    });\n  }\n}(window));",
      "application/vnd.holoviews_load.v0+json": ""
     },
     "metadata": {},
     "output_type": "display_data"
    },
    {
     "data": {
      "application/javascript": "\nif ((window.PyViz === undefined) || (window.PyViz instanceof HTMLElement)) {\n  window.PyViz = {comms: {}, comm_status:{}, kernels:{}, receivers: {}, plot_index: []}\n}\n\n\n    function JupyterCommManager() {\n    }\n\n    JupyterCommManager.prototype.register_target = function(plot_id, comm_id, msg_handler) {\n      if (window.comm_manager || ((window.Jupyter !== undefined) && (Jupyter.notebook.kernel != null))) {\n        var comm_manager = window.comm_manager || Jupyter.notebook.kernel.comm_manager;\n        comm_manager.register_target(comm_id, function(comm) {\n          comm.on_msg(msg_handler);\n        });\n      } else if ((plot_id in window.PyViz.kernels) && (window.PyViz.kernels[plot_id])) {\n        window.PyViz.kernels[plot_id].registerCommTarget(comm_id, function(comm) {\n          comm.onMsg = msg_handler;\n        });\n      } else if (typeof google != 'undefined' && google.colab.kernel != null) {\n        google.colab.kernel.comms.registerTarget(comm_id, (comm) => {\n          var messages = comm.messages[Symbol.asyncIterator]();\n          function processIteratorResult(result) {\n            var message = result.value;\n            console.log(message)\n            var content = {data: message.data, comm_id};\n            var buffers = []\n            for (var buffer of message.buffers || []) {\n              buffers.push(new DataView(buffer))\n            }\n            var metadata = message.metadata || {};\n            var msg = {content, buffers, metadata}\n            msg_handler(msg);\n            return messages.next().then(processIteratorResult);\n          }\n          return messages.next().then(processIteratorResult);\n        })\n      }\n    }\n\n    JupyterCommManager.prototype.get_client_comm = function(plot_id, comm_id, msg_handler) {\n      if (comm_id in window.PyViz.comms) {\n        return window.PyViz.comms[comm_id];\n      } else if (window.comm_manager || ((window.Jupyter !== undefined) && (Jupyter.notebook.kernel != null))) {\n        var comm_manager = window.comm_manager || Jupyter.notebook.kernel.comm_manager;\n        var comm = comm_manager.new_comm(comm_id, {}, {}, {}, comm_id);\n        if (msg_handler) {\n          comm.on_msg(msg_handler);\n        }\n      } else if ((plot_id in window.PyViz.kernels) && (window.PyViz.kernels[plot_id])) {\n        var comm = window.PyViz.kernels[plot_id].connectToComm(comm_id);\n        comm.open();\n        if (msg_handler) {\n          comm.onMsg = msg_handler;\n        }\n      } else if (typeof google != 'undefined' && google.colab.kernel != null) {\n        var comm_promise = google.colab.kernel.comms.open(comm_id)\n        comm_promise.then((comm) => {\n          window.PyViz.comms[comm_id] = comm;\n          if (msg_handler) {\n            var messages = comm.messages[Symbol.asyncIterator]();\n            function processIteratorResult(result) {\n              var message = result.value;\n              var content = {data: message.data};\n              var metadata = message.metadata || {comm_id};\n              var msg = {content, metadata}\n              msg_handler(msg);\n              return messages.next().then(processIteratorResult);\n            }\n            return messages.next().then(processIteratorResult);\n          }\n        }) \n        var sendClosure = (data, metadata, buffers, disposeOnDone) => {\n          return comm_promise.then((comm) => {\n            comm.send(data, metadata, buffers, disposeOnDone);\n          });\n        };\n        var comm = {\n          send: sendClosure\n        };\n      }\n      window.PyViz.comms[comm_id] = comm;\n      return comm;\n    }\n    window.PyViz.comm_manager = new JupyterCommManager();\n    \n\n\nvar JS_MIME_TYPE = 'application/javascript';\nvar HTML_MIME_TYPE = 'text/html';\nvar EXEC_MIME_TYPE = 'application/vnd.holoviews_exec.v0+json';\nvar CLASS_NAME = 'output';\n\n/**\n * Render data to the DOM node\n */\nfunction render(props, node) {\n  var div = document.createElement(\"div\");\n  var script = document.createElement(\"script\");\n  node.appendChild(div);\n  node.appendChild(script);\n}\n\n/**\n * Handle when a new output is added\n */\nfunction handle_add_output(event, handle) {\n  var output_area = handle.output_area;\n  var output = handle.output;\n  if ((output.data == undefined) || (!output.data.hasOwnProperty(EXEC_MIME_TYPE))) {\n    return\n  }\n  var id = output.metadata[EXEC_MIME_TYPE][\"id\"];\n  var toinsert = output_area.element.find(\".\" + CLASS_NAME.split(' ')[0]);\n  if (id !== undefined) {\n    var nchildren = toinsert.length;\n    var html_node = toinsert[nchildren-1].children[0];\n    html_node.innerHTML = output.data[HTML_MIME_TYPE];\n    var scripts = [];\n    var nodelist = html_node.querySelectorAll(\"script\");\n    for (var i in nodelist) {\n      if (nodelist.hasOwnProperty(i)) {\n        scripts.push(nodelist[i])\n      }\n    }\n\n    scripts.forEach( function (oldScript) {\n      var newScript = document.createElement(\"script\");\n      var attrs = [];\n      var nodemap = oldScript.attributes;\n      for (var j in nodemap) {\n        if (nodemap.hasOwnProperty(j)) {\n          attrs.push(nodemap[j])\n        }\n      }\n      attrs.forEach(function(attr) { newScript.setAttribute(attr.name, attr.value) });\n      newScript.appendChild(document.createTextNode(oldScript.innerHTML));\n      oldScript.parentNode.replaceChild(newScript, oldScript);\n    });\n    if (JS_MIME_TYPE in output.data) {\n      toinsert[nchildren-1].children[1].textContent = output.data[JS_MIME_TYPE];\n    }\n    output_area._hv_plot_id = id;\n    if ((window.Bokeh !== undefined) && (id in Bokeh.index)) {\n      window.PyViz.plot_index[id] = Bokeh.index[id];\n    } else {\n      window.PyViz.plot_index[id] = null;\n    }\n  } else if (output.metadata[EXEC_MIME_TYPE][\"server_id\"] !== undefined) {\n    var bk_div = document.createElement(\"div\");\n    bk_div.innerHTML = output.data[HTML_MIME_TYPE];\n    var script_attrs = bk_div.children[0].attributes;\n    for (var i = 0; i < script_attrs.length; i++) {\n      toinsert[toinsert.length - 1].childNodes[1].setAttribute(script_attrs[i].name, script_attrs[i].value);\n    }\n    // store reference to server id on output_area\n    output_area._bokeh_server_id = output.metadata[EXEC_MIME_TYPE][\"server_id\"];\n  }\n}\n\n/**\n * Handle when an output is cleared or removed\n */\nfunction handle_clear_output(event, handle) {\n  var id = handle.cell.output_area._hv_plot_id;\n  var server_id = handle.cell.output_area._bokeh_server_id;\n  if (((id === undefined) || !(id in PyViz.plot_index)) && (server_id !== undefined)) { return; }\n  var comm = window.PyViz.comm_manager.get_client_comm(\"hv-extension-comm\", \"hv-extension-comm\", function () {});\n  if (server_id !== null) {\n    comm.send({event_type: 'server_delete', 'id': server_id});\n    return;\n  } else if (comm !== null) {\n    comm.send({event_type: 'delete', 'id': id});\n  }\n  delete PyViz.plot_index[id];\n  if ((window.Bokeh !== undefined) & (id in window.Bokeh.index)) {\n    var doc = window.Bokeh.index[id].model.document\n    doc.clear();\n    const i = window.Bokeh.documents.indexOf(doc);\n    if (i > -1) {\n      window.Bokeh.documents.splice(i, 1);\n    }\n  }\n}\n\n/**\n * Handle kernel restart event\n */\nfunction handle_kernel_cleanup(event, handle) {\n  delete PyViz.comms[\"hv-extension-comm\"];\n  window.PyViz.plot_index = {}\n}\n\n/**\n * Handle update_display_data messages\n */\nfunction handle_update_output(event, handle) {\n  handle_clear_output(event, {cell: {output_area: handle.output_area}})\n  handle_add_output(event, handle)\n}\n\nfunction register_renderer(events, OutputArea) {\n  function append_mime(data, metadata, element) {\n    // create a DOM node to render to\n    var toinsert = this.create_output_subarea(\n    metadata,\n    CLASS_NAME,\n    EXEC_MIME_TYPE\n    );\n    this.keyboard_manager.register_events(toinsert);\n    // Render to node\n    var props = {data: data, metadata: metadata[EXEC_MIME_TYPE]};\n    render(props, toinsert[0]);\n    element.append(toinsert);\n    return toinsert\n  }\n\n  events.on('output_added.OutputArea', handle_add_output);\n  events.on('output_updated.OutputArea', handle_update_output);\n  events.on('clear_output.CodeCell', handle_clear_output);\n  events.on('delete.Cell', handle_clear_output);\n  events.on('kernel_ready.Kernel', handle_kernel_cleanup);\n\n  OutputArea.prototype.register_mime_type(EXEC_MIME_TYPE, append_mime, {\n    safe: true,\n    index: 0\n  });\n}\n\nif (window.Jupyter !== undefined) {\n  try {\n    var events = require('base/js/events');\n    var OutputArea = require('notebook/js/outputarea').OutputArea;\n    if (OutputArea.prototype.mime_types().indexOf(EXEC_MIME_TYPE) == -1) {\n      register_renderer(events, OutputArea);\n    }\n  } catch(err) {\n  }\n}\n",
      "application/vnd.holoviews_load.v0+json": ""
     },
     "metadata": {},
     "output_type": "display_data"
    }
   ],
   "source": [
    "# importing all the required libraries\n",
    "import pandas as pd                         # 1.3.5\n",
    "import numpy as np                          # 1.21.2\n",
    "import plotly.express as px                 # 5.1.0\n",
    "import panel as pn                          # 0.12.1\n",
    "import cbsodata                             # 1.3.4\n",
    "import yaml\n",
    "from panel.interact import interact         \n",
    "from panel.template import DarkTheme\n",
    "from sklearn import preprocessing\n",
    "\n",
    "#\n",
    "# I use vscode, however this notebook has also been tested with regular jupyter notebook \n",
    "# and it should not cause any issues. If they do appear, remove \"comms='vscode'\"\n",
    "#\n",
    "# Sizing_mode should make all plots scale automatically to the resolution of the screen,\n",
    "# but with some webbrowsers or ide's it doesn't work.\n",
    "pn.extension(comms='vscode', sizing_mode='scale_width')"
   ]
  },
  {
   "cell_type": "code",
   "execution_count": 66,
   "metadata": {
    "ExecuteTime": {
     "end_time": "2022-01-31T17:33:13.346850Z",
     "start_time": "2022-01-31T17:33:13.333847Z"
    }
   },
   "outputs": [],
   "source": [
    "# Makes pandas show all the columns and rows.\n",
    "pd.set_option('display.max_columns', None)"
   ]
  },
  {
   "cell_type": "code",
   "execution_count": 35,
   "metadata": {
    "ExecuteTime": {
     "end_time": "2022-01-31T17:33:16.238533Z",
     "start_time": "2022-01-31T17:33:13.350850Z"
    }
   },
   "outputs": [],
   "source": [
    "# downloading the data using a libary provided by cbs.\n",
    "# This already has the required metadata included.\n",
    "crime_stat = pd.DataFrame(cbsodata.get_data('83095NED'))\n",
    "safe_per = pd.DataFrame(cbsodata.get_data('81881NED'))\n",
    "\n",
    "# Very large file, il do it the easy way of pre selecting the tables I want.\n",
    "# Importing it everytime would make the performance suffer to much.\n",
    "#crime_police = pd.DataFrame(cbsodata.get_data('83651NED'))\n",
    "\n",
    "crime_police = pd.read_csv('Geregistreerde_diefstallen3.csv', sep=';')\n",
    "\n",
    "# meta data, Currently not used.\n",
    "# metadata = pd.DataFrame(cbsodata.get_meta('81881NED','Persoonskenmerken'))\n",
    "# metadata = metadata[['Key','Title']]"
   ]
  },
  {
   "cell_type": "code",
   "execution_count": 36,
   "metadata": {
    "ExecuteTime": {
     "end_time": "2022-01-31T17:33:16.302578Z",
     "start_time": "2022-01-31T17:33:16.242554Z"
    }
   },
   "outputs": [
    {
     "name": "stdout",
     "output_type": "stream",
     "text": [
      "<class 'pandas.core.frame.DataFrame'>\n",
      "RangeIndex: 602 entries, 0 to 601\n",
      "Columns: 158 entries, ID to Anders_154\n",
      "dtypes: float64(154), int64(1), object(3)\n",
      "memory usage: 743.2+ KB\n"
     ]
    }
   ],
   "source": [
    "# Testing\n",
    "# Crime_stat currently has 602 rows and 158 columns.\n",
    "# CBS might add data which automatically will be pulled due to the API.\n",
    "# However the dataprocessing functions made should be able to handle this\n",
    "crime_stat.info()"
   ]
  },
  {
   "cell_type": "code",
   "execution_count": 37,
   "metadata": {
    "ExecuteTime": {
     "end_time": "2022-01-31T17:33:16.318569Z",
     "start_time": "2022-01-31T17:33:16.305567Z"
    }
   },
   "outputs": [
    {
     "name": "stdout",
     "output_type": "stream",
     "text": [
      "<class 'pandas.core.frame.DataFrame'>\n",
      "RangeIndex: 602 entries, 0 to 601\n",
      "Data columns (total 34 columns):\n",
      " #   Column                                   Non-Null Count  Dtype  \n",
      "---  ------                                   --------------  -----  \n",
      " 0   ID                                       602 non-null    int64  \n",
      " 1   Marges                                   602 non-null    object \n",
      " 2   Persoonskenmerken                        602 non-null    object \n",
      " 3   Perioden                                 602 non-null    object \n",
      " 4   VoeltZichWelEensOnveilig_1               602 non-null    float64\n",
      " 5   VoeltZichVaakOnveilig_2                  602 non-null    float64\n",
      " 6   VanZakkenrollerij_3                      602 non-null    float64\n",
      " 7   VanBerovingOpStraat_4                    602 non-null    float64\n",
      " 8   VanInbraakInWoning_5                     602 non-null    float64\n",
      " 9   VanMishandeling_6                        602 non-null    float64\n",
      " 10  VoeltZichWelEensOnveiligInBuurt_7        602 non-null    float64\n",
      " 11  VoeltZichVaakOnveiligInBuurt_8           602 non-null    float64\n",
      " 12  SAvondsOpStraatInBuurtOnveilig_9         602 non-null    float64\n",
      " 13  SAvondsAlleenThuisOnveilig_10            602 non-null    float64\n",
      " 14  DoetSAvondsNietOpen_11                   602 non-null    float64\n",
      " 15  RijdtOfLooptOm_12                        602 non-null    float64\n",
      " 16  BangSlachtofferCriminaliteitTeWorden_13  602 non-null    float64\n",
      " 17  DenktDatErVeelCriminaliteitInBuurt_14    602 non-null    float64\n",
      " 18  VindtCriminaliteitInBuurtToegenomen_15   602 non-null    float64\n",
      " 19  VindtCriminaliteitInBuurtAfgenomen_16    602 non-null    float64\n",
      " 20  VindtCriminaliteitInBuurtGelijk_17       602 non-null    float64\n",
      " 21  RapportcijferVeiligheidInBuurt_18        602 non-null    float64\n",
      " 22  RondomUitgaansgelegenheden_19            602 non-null    float64\n",
      " 23  OpPlekkenWaarJongerenRondhangen_20       602 non-null    float64\n",
      " 24  InCentrumVanWoonplaats_21                602 non-null    float64\n",
      " 25  InWinkelgebiedWinkelcentrum_22           602 non-null    float64\n",
      " 26  InOpenbaarVervoer_23                     602 non-null    float64\n",
      " 27  BijTreinstationInWoonplaats_24           602 non-null    float64\n",
      " 28  InEigenHuis_25                           602 non-null    float64\n",
      " 29  DoorOnbekendenOpStraat_26                602 non-null    float64\n",
      " 30  DoorOnbekendenInOpenbaarVervoer_27       602 non-null    float64\n",
      " 31  DoorPersoneelVanWinkelsEnBedrijven_28    602 non-null    float64\n",
      " 32  DoorPersoneelVanOverheidsinstanties_29   602 non-null    float64\n",
      " 33  DoorBekendenPartnerFamilieVriend_30      602 non-null    float64\n",
      "dtypes: float64(30), int64(1), object(3)\n",
      "memory usage: 160.0+ KB\n"
     ]
    }
   ],
   "source": [
    "# Testing\n",
    "# safe_per currently has 602 rows and 34 columns\n",
    "# CBS might add data which automatically will be pulled due to the API.\n",
    "# However the dataprocessing functions made should be able to handle this\n",
    "safe_per.info()"
   ]
  },
  {
   "cell_type": "markdown",
   "metadata": {},
   "source": [
    "## <h2> Data filtering function </h2>\n",
    "Function made to turn the dataframe into a plotable dataset"
   ]
  },
  {
   "cell_type": "code",
   "execution_count": 38,
   "metadata": {
    "ExecuteTime": {
     "end_time": "2022-01-31T17:33:16.334572Z",
     "start_time": "2022-01-31T17:33:16.322570Z"
    }
   },
   "outputs": [],
   "source": [
    "def safety_file_filter(df, df_type='safety', year='2019'):\n",
    "    \n",
    "    ################################################################################\n",
    "    # Function to transfer the datasets from the safety monitor into plotable data\n",
    "    #\n",
    "    # Arguments:\n",
    "    #\n",
    "    # df                 Pandas Dataframe from the cbs 'veiligheids monitor'\n",
    "    # df_type            The type of dataframe that has been given. \n",
    "    #                    Safety for the asked safety feelings and any other input\n",
    "    #                    for the Survey crime statistics.\n",
    "    # year               The year the data will get filtered on. There is no 2018 data\n",
    "    # \n",
    "    #\n",
    "    # Author:            Rients\n",
    "    # Date:              25/01/2022\n",
    "    #\n",
    "    ################################################################################\n",
    "    \n",
    "    \n",
    "    \n",
    "    # obtaining only the age personal characteristics as that is what I am interested in.\n",
    "    df = df[df['Persoonskenmerken'].str.contains('Leeftijd') | df['Persoonskenmerken'].str.contains('Totaal') == True]\n",
    "    df = df[df['Marges'].str.contains('Waarde') == True]\n",
    "    # getting only the data from the specified year\n",
    "    df = df[df['Perioden'].str.contains(year) == True]\n",
    "    # Translating dutch to english\n",
    "    df['Persoonskenmerken'] = df['Persoonskenmerken'].str.replace('Leeftijd:','')\n",
    "    df['Persoonskenmerken'] = df['Persoonskenmerken'].str.replace('jaar','')\n",
    "    df['Persoonskenmerken'] = df['Persoonskenmerken'].str.replace('tot','until')\n",
    "    df['Persoonskenmerken'] = df['Persoonskenmerken'].str.replace('of ouder','or older')\n",
    "    df['Persoonskenmerken'] = df['Persoonskenmerken'].str.replace('Totaal personen','Total amount of people')\n",
    "    df['Persoonskenmerken'] = df['Persoonskenmerken'].str.strip()\n",
    "    \n",
    "    # changing the data to numbers\n",
    "    for columns in df:\n",
    "        if columns != 'Persoonskenmerken' and columns != 'Perioden':\n",
    "            df[columns] =  pd.to_numeric(df[columns], errors='coerce')\n",
    "            df = df.fillna(0)\n",
    "    \n",
    "    # if statement to determine which columns to take & rename\n",
    "    if df_type == 'safety':\n",
    "        df = df[['Persoonskenmerken', 'VoeltZichWelEensOnveilig_1', 'VoeltZichVaakOnveilig_2', 'VanZakkenrollerij_3', \n",
    "                 'VanBerovingOpStraat_4', 'VanInbraakInWoning_5', 'VanMishandeling_6']]\n",
    "        \n",
    "        \n",
    "    else:\n",
    "        # Obtaining only the columns I am interested in\n",
    "        df = df[['Persoonskenmerken','AantalDelicten_1', 'PogingTotZakkenrollerij_66', 'Zakkenrollerij_67', \n",
    "                 'PogingTotBeroving_68', 'Beroving_69', 'PogingTotInbraak_38', 'Mishandeling_31']]\n",
    "        # Adding attemted  robbery and successfull robbery together.\n",
    "        df['Survey_pickpocketing'] = df['PogingTotZakkenrollerij_66'] + df['Zakkenrollerij_67']\n",
    "        df['Survey_robbery'] = df['PogingTotBeroving_68'] + df['Beroving_69']\n",
    "        # dropping the columns that were added together.\n",
    "        df = df.drop(['PogingTotZakkenrollerij_66','Zakkenrollerij_67','PogingTotBeroving_68','Beroving_69'], axis=1)\n",
    "        \n",
    "    df = df.rename(columns={'VoeltZichWelEensOnveilig_1':'Has_Felt_Unsafe', 'VoeltZichVaakOnveilig_2':'Has_Felt_Unsafe_often', \n",
    "                            'VanZakkenrollerij_3':'Unsafe_pickpocketing', 'VanBerovingOpStraat_4':'Unsafe_robbery',\n",
    "                            'VanInbraakInWoning_5':'Unsafe_burglary', 'VanMishandeling_6':'Unsafe_abuse',\n",
    "                            'AantalDelicten_1':'Survey_total_crime', 'PogingTotInbraak_38':'Survey_burglary', \n",
    "                            'Mishandeling_31':'Survey_abuse'})\n",
    "    \n",
    "    df = df.head(1).append(df.tail(7))\n",
    "    \n",
    "    return df\n"
   ]
  },
  {
   "cell_type": "code",
   "execution_count": 39,
   "metadata": {
    "ExecuteTime": {
     "end_time": "2022-01-31T17:33:16.380584Z",
     "start_time": "2022-01-31T17:33:16.336572Z"
    }
   },
   "outputs": [
    {
     "data": {
      "text/html": [
       "<div>\n",
       "<style scoped>\n",
       "    .dataframe tbody tr th:only-of-type {\n",
       "        vertical-align: middle;\n",
       "    }\n",
       "\n",
       "    .dataframe tbody tr th {\n",
       "        vertical-align: top;\n",
       "    }\n",
       "\n",
       "    .dataframe thead th {\n",
       "        text-align: right;\n",
       "    }\n",
       "</style>\n",
       "<table border=\"1\" class=\"dataframe\">\n",
       "  <thead>\n",
       "    <tr style=\"text-align: right;\">\n",
       "      <th></th>\n",
       "      <th>Persoonskenmerken</th>\n",
       "      <th>Has_Felt_Unsafe</th>\n",
       "      <th>Has_Felt_Unsafe_often</th>\n",
       "      <th>Unsafe_pickpocketing</th>\n",
       "      <th>Unsafe_robbery</th>\n",
       "      <th>Unsafe_burglary</th>\n",
       "      <th>Unsafe_abuse</th>\n",
       "    </tr>\n",
       "  </thead>\n",
       "  <tbody>\n",
       "    <tr>\n",
       "      <th>6</th>\n",
       "      <td>Total amount of people</td>\n",
       "      <td>31.8</td>\n",
       "      <td>1.4</td>\n",
       "      <td>2.6</td>\n",
       "      <td>1.7</td>\n",
       "      <td>7.8</td>\n",
       "      <td>1.9</td>\n",
       "    </tr>\n",
       "    <tr>\n",
       "      <th>62</th>\n",
       "      <td>18 until 25</td>\n",
       "      <td>41.8</td>\n",
       "      <td>2.1</td>\n",
       "      <td>4.0</td>\n",
       "      <td>2.0</td>\n",
       "      <td>8.2</td>\n",
       "      <td>2.9</td>\n",
       "    </tr>\n",
       "    <tr>\n",
       "      <th>69</th>\n",
       "      <td>25 until 35</td>\n",
       "      <td>37.7</td>\n",
       "      <td>1.7</td>\n",
       "      <td>3.1</td>\n",
       "      <td>2.0</td>\n",
       "      <td>8.9</td>\n",
       "      <td>2.7</td>\n",
       "    </tr>\n",
       "    <tr>\n",
       "      <th>76</th>\n",
       "      <td>35 until 45</td>\n",
       "      <td>34.1</td>\n",
       "      <td>1.3</td>\n",
       "      <td>2.6</td>\n",
       "      <td>1.6</td>\n",
       "      <td>10.1</td>\n",
       "      <td>2.1</td>\n",
       "    </tr>\n",
       "    <tr>\n",
       "      <th>83</th>\n",
       "      <td>45 until 55</td>\n",
       "      <td>31.5</td>\n",
       "      <td>1.3</td>\n",
       "      <td>2.2</td>\n",
       "      <td>1.6</td>\n",
       "      <td>8.4</td>\n",
       "      <td>1.8</td>\n",
       "    </tr>\n",
       "    <tr>\n",
       "      <th>90</th>\n",
       "      <td>55 until 65</td>\n",
       "      <td>28.9</td>\n",
       "      <td>1.3</td>\n",
       "      <td>2.1</td>\n",
       "      <td>1.7</td>\n",
       "      <td>7.5</td>\n",
       "      <td>1.5</td>\n",
       "    </tr>\n",
       "    <tr>\n",
       "      <th>97</th>\n",
       "      <td>65 until 75</td>\n",
       "      <td>24.5</td>\n",
       "      <td>1.1</td>\n",
       "      <td>2.0</td>\n",
       "      <td>1.5</td>\n",
       "      <td>6.3</td>\n",
       "      <td>1.3</td>\n",
       "    </tr>\n",
       "    <tr>\n",
       "      <th>104</th>\n",
       "      <td>75  or older</td>\n",
       "      <td>21.4</td>\n",
       "      <td>0.9</td>\n",
       "      <td>1.9</td>\n",
       "      <td>1.3</td>\n",
       "      <td>5.0</td>\n",
       "      <td>0.7</td>\n",
       "    </tr>\n",
       "  </tbody>\n",
       "</table>\n",
       "</div>"
      ],
      "text/plain": [
       "          Persoonskenmerken  Has_Felt_Unsafe  Has_Felt_Unsafe_often  \\\n",
       "6    Total amount of people             31.8                    1.4   \n",
       "62              18 until 25             41.8                    2.1   \n",
       "69              25 until 35             37.7                    1.7   \n",
       "76              35 until 45             34.1                    1.3   \n",
       "83              45 until 55             31.5                    1.3   \n",
       "90              55 until 65             28.9                    1.3   \n",
       "97              65 until 75             24.5                    1.1   \n",
       "104            75  or older             21.4                    0.9   \n",
       "\n",
       "     Unsafe_pickpocketing  Unsafe_robbery  Unsafe_burglary  Unsafe_abuse  \n",
       "6                     2.6             1.7              7.8           1.9  \n",
       "62                    4.0             2.0              8.2           2.9  \n",
       "69                    3.1             2.0              8.9           2.7  \n",
       "76                    2.6             1.6             10.1           2.1  \n",
       "83                    2.2             1.6              8.4           1.8  \n",
       "90                    2.1             1.7              7.5           1.5  \n",
       "97                    2.0             1.5              6.3           1.3  \n",
       "104                   1.9             1.3              5.0           0.7  "
      ]
     },
     "execution_count": 39,
     "metadata": {},
     "output_type": "execute_result"
    }
   ],
   "source": [
    "safety_file_filter(safe_per,df_type='safety', year='2019')"
   ]
  },
  {
   "cell_type": "code",
   "execution_count": 40,
   "metadata": {
    "ExecuteTime": {
     "end_time": "2022-01-31T17:33:16.412602Z",
     "start_time": "2022-01-31T17:33:16.382584Z"
    }
   },
   "outputs": [
    {
     "name": "stdout",
     "output_type": "stream",
     "text": [
      "<class 'pandas.core.frame.DataFrame'>\n",
      "Int64Index: 8 entries, 6 to 104\n",
      "Data columns (total 7 columns):\n",
      " #   Column                 Non-Null Count  Dtype  \n",
      "---  ------                 --------------  -----  \n",
      " 0   Persoonskenmerken      8 non-null      object \n",
      " 1   Has_Felt_Unsafe        8 non-null      float64\n",
      " 2   Has_Felt_Unsafe_often  8 non-null      float64\n",
      " 3   Unsafe_pickpocketing   8 non-null      float64\n",
      " 4   Unsafe_robbery         8 non-null      float64\n",
      " 5   Unsafe_burglary        8 non-null      float64\n",
      " 6   Unsafe_abuse           8 non-null      float64\n",
      "dtypes: float64(6), object(1)\n",
      "memory usage: 512.0+ bytes\n"
     ]
    }
   ],
   "source": [
    "# test block\n",
    "# output should be a filtered dataframe 8 rows long without nans.\n",
    "#It should contain float64 values except for 'Persoonskenmerken'\n",
    "safety_file_filter(safe_per, df_type='safety', year='2019').info()"
   ]
  },
  {
   "cell_type": "code",
   "execution_count": 41,
   "metadata": {
    "ExecuteTime": {
     "end_time": "2022-01-31T17:33:16.428629Z",
     "start_time": "2022-01-31T17:33:16.415599Z"
    }
   },
   "outputs": [],
   "source": [
    "def police_file_filter(df, year='2019'):\n",
    "\n",
    "    ################################################################################\n",
    "    # Function to transfer the datasets from the cbs police stats into plotable data\n",
    "    # Arguments:\n",
    "    #\n",
    "    # df                 Pandas Dataframe from the cbs police registerd crimes\n",
    "    # year               The year the data will get filtered on.\n",
    "    # \n",
    "    #\n",
    "    # Author:            Rients\n",
    "    # Date:              25/01/2022\n",
    "    #\n",
    "    ################################################################################\n",
    "    \n",
    "    \n",
    "    # getting only the data from the specified year\n",
    "    df = df[df['Perioden'].str.contains(year) == True]\n",
    "    # Obtaining only the columns i am interested in.\n",
    "    df = df[['Soort diefstal','Geregistreerde diefstallen/Totaal geregistreerde diefstallen (aantal)']]\n",
    "    # renaming the columns to english and more readable names.\n",
    "    df = df.rename(columns={'Geregistreerde diefstallen/Totaal geregistreerde diefstallen (aantal)':'Total_amount',\n",
    "                            'Soort diefstal':'Type_Crime'})\n",
    "    df = df.reset_index()\n",
    "   \n",
    "    # reshaping the data, could not manage to find a faster way to do it with reshape, pivot, stack or melt.\n",
    "    new_df = pd.DataFrame()\n",
    "    new_df = new_df.append(df['Total_amount'])\n",
    "    new_df = new_df.rename(columns={0:'Police_total_theft',1:'Pol1',2:'Police_pickpocketing',3:'woning/schuur',\n",
    "                                    4:'uit woning',5:'garage',6:'Pol2'})\n",
    "    \n",
    "    # Combining certain columns into 1.\n",
    "    new_df['Police_total_burglary'] = new_df['uit woning'] + new_df['garage'] + new_df['woning/schuur']\n",
    "    new_df['Police_total_robbery'] = new_df['Pol1'] + new_df['Pol2']\n",
    "    new_df = new_df.drop(['uit woning','garage','woning/schuur','Pol1','Pol2'], axis=1)\n",
    "    \n",
    "    return new_df\n",
    "    "
   ]
  },
  {
   "cell_type": "code",
   "execution_count": 42,
   "metadata": {
    "ExecuteTime": {
     "end_time": "2022-01-31T17:33:17.044756Z",
     "start_time": "2022-01-31T17:33:16.431618Z"
    }
   },
   "outputs": [],
   "source": [
    "# There is no data from 2018 in the veiligheidsmonitor files\n",
    "year_list = ['2012', '2013', '2014', '2015', '2016', '2017', '2019']\n",
    "safe = {}\n",
    "crime = {}\n",
    "both = {}\n",
    "police = pd.DataFrame()\n",
    "both_total = pd.DataFrame()\n",
    "\n",
    "# Applying the function and merging the result.\n",
    "for year in year_list:\n",
    "    crime[year] = safety_file_filter(crime_stat, df_type='crime', year=year)\n",
    "    safe[year] = safety_file_filter(safe_per, df_type='safety', year=year)\n",
    "    # merging the two dataframes together\n",
    "    both[year] = crime[year].merge(safe[year], how='inner', left_on='Persoonskenmerken', right_on='Persoonskenmerken')\n",
    "    # appending the years of the police file together\n",
    "    police = police.append(police_file_filter(crime_police, year = year), ignore_index=True)\n",
    "    \n",
    "    # appending the total persons from the 'both' file together\n",
    "    tempdf = both[year][both[year]['Persoonskenmerken'].str.contains('Total amount of people') == True]\n",
    "    both_total = both_total.append(tempdf)"
   ]
  },
  {
   "cell_type": "code",
   "execution_count": 43,
   "metadata": {
    "ExecuteTime": {
     "end_time": "2022-01-31T17:33:17.060759Z",
     "start_time": "2022-01-31T17:33:17.049758Z"
    }
   },
   "outputs": [],
   "source": [
    "# Adding the year values back to the police stats file.\n",
    "police['year'] = year_list\n",
    "both_total['year'] = year_list\n",
    "# merging all 3 files together on year\n",
    "bothboth = both_total.merge(police, how='inner', left_on='year', right_on='year')"
   ]
  },
  {
   "cell_type": "markdown",
   "metadata": {},
   "source": [
    "## <h2> Normalizing the data </h2>"
   ]
  },
  {
   "cell_type": "code",
   "execution_count": 44,
   "metadata": {
    "ExecuteTime": {
     "end_time": "2022-01-31T17:33:17.076764Z",
     "start_time": "2022-01-31T17:33:17.063762Z"
    }
   },
   "outputs": [],
   "source": [
    "# Getting the total population of the netherlands for each year.\n",
    "# Source: https://www.statista.com/statistics/519720/total-population-of-the-netherlands/\n",
    "NL_pop = pd.DataFrame(data={'2012':16730348, '2013':16779575, '2014':16829289, '2015':16900726, \n",
    "                            '2016':16979120, '2017':17081507, '2019':17282163}, index=['Population'])\n",
    "NL_pop = NL_pop.melt()"
   ]
  },
  {
   "cell_type": "code",
   "execution_count": 45,
   "metadata": {
    "ExecuteTime": {
     "end_time": "2022-01-31T17:33:17.092769Z",
     "start_time": "2022-01-31T17:33:17.078765Z"
    }
   },
   "outputs": [],
   "source": [
    "# normalising the values by dividing them by the total population\n",
    "bothboth['Police_total_theft'] = bothboth['Police_total_theft'] / NL_pop['value']\n",
    "bothboth['Police_pickpocketing'] = bothboth['Police_pickpocketing'] / NL_pop['value']\n",
    "bothboth['Police_total_burglary'] = bothboth['Police_total_burglary'] / NL_pop['value']\n",
    "bothboth['Police_total_robbery'] = bothboth['Police_total_robbery'] / NL_pop['value']"
   ]
  },
  {
   "cell_type": "code",
   "execution_count": 46,
   "metadata": {
    "ExecuteTime": {
     "end_time": "2022-01-31T17:33:17.124782Z",
     "start_time": "2022-01-31T17:33:17.095768Z"
    }
   },
   "outputs": [
    {
     "data": {
      "text/html": [
       "<div>\n",
       "<style scoped>\n",
       "    .dataframe tbody tr th:only-of-type {\n",
       "        vertical-align: middle;\n",
       "    }\n",
       "\n",
       "    .dataframe tbody tr th {\n",
       "        vertical-align: top;\n",
       "    }\n",
       "\n",
       "    .dataframe thead th {\n",
       "        text-align: right;\n",
       "    }\n",
       "</style>\n",
       "<table border=\"1\" class=\"dataframe\">\n",
       "  <thead>\n",
       "    <tr style=\"text-align: right;\">\n",
       "      <th></th>\n",
       "      <th>Persoonskenmerken</th>\n",
       "      <th>Survey_total_crime</th>\n",
       "      <th>Survey_burglary</th>\n",
       "      <th>Survey_abuse</th>\n",
       "      <th>Survey_pickpocketing</th>\n",
       "      <th>Survey_robbery</th>\n",
       "      <th>Has_Felt_Unsafe</th>\n",
       "      <th>Has_Felt_Unsafe_often</th>\n",
       "      <th>Unsafe_pickpocketing</th>\n",
       "      <th>Unsafe_robbery</th>\n",
       "      <th>Unsafe_burglary</th>\n",
       "      <th>Unsafe_abuse</th>\n",
       "      <th>year</th>\n",
       "      <th>Police_total_theft</th>\n",
       "      <th>Police_pickpocketing</th>\n",
       "      <th>Police_total_burglary</th>\n",
       "      <th>Police_total_robbery</th>\n",
       "    </tr>\n",
       "  </thead>\n",
       "  <tbody>\n",
       "    <tr>\n",
       "      <th>0</th>\n",
       "      <td>Total amount of people</td>\n",
       "      <td>35.8</td>\n",
       "      <td>3.9</td>\n",
       "      <td>1.3</td>\n",
       "      <td>1.9</td>\n",
       "      <td>0.2</td>\n",
       "      <td>36.6</td>\n",
       "      <td>1.8</td>\n",
       "      <td>3.9</td>\n",
       "      <td>2.7</td>\n",
       "      <td>10.2</td>\n",
       "      <td>2.4</td>\n",
       "      <td>2012</td>\n",
       "      <td>0.039237</td>\n",
       "      <td>0.002328</td>\n",
       "      <td>0.013412</td>\n",
       "      <td>0.000615</td>\n",
       "    </tr>\n",
       "    <tr>\n",
       "      <th>1</th>\n",
       "      <td>Total amount of people</td>\n",
       "      <td>35.9</td>\n",
       "      <td>4.1</td>\n",
       "      <td>1.0</td>\n",
       "      <td>2.1</td>\n",
       "      <td>0.2</td>\n",
       "      <td>36.7</td>\n",
       "      <td>1.9</td>\n",
       "      <td>5.1</td>\n",
       "      <td>2.9</td>\n",
       "      <td>12.1</td>\n",
       "      <td>2.5</td>\n",
       "      <td>2013</td>\n",
       "      <td>0.038776</td>\n",
       "      <td>0.002619</td>\n",
       "      <td>0.013241</td>\n",
       "      <td>0.000530</td>\n",
       "    </tr>\n",
       "    <tr>\n",
       "      <th>2</th>\n",
       "      <td>Total amount of people</td>\n",
       "      <td>33.7</td>\n",
       "      <td>3.9</td>\n",
       "      <td>0.9</td>\n",
       "      <td>1.9</td>\n",
       "      <td>0.2</td>\n",
       "      <td>35.9</td>\n",
       "      <td>1.8</td>\n",
       "      <td>3.9</td>\n",
       "      <td>2.5</td>\n",
       "      <td>11.0</td>\n",
       "      <td>2.3</td>\n",
       "      <td>2014</td>\n",
       "      <td>0.035212</td>\n",
       "      <td>0.002079</td>\n",
       "      <td>0.011096</td>\n",
       "      <td>0.000407</td>\n",
       "    </tr>\n",
       "    <tr>\n",
       "      <th>3</th>\n",
       "      <td>Total amount of people</td>\n",
       "      <td>31.8</td>\n",
       "      <td>3.6</td>\n",
       "      <td>2.2</td>\n",
       "      <td>1.7</td>\n",
       "      <td>0.2</td>\n",
       "      <td>35.6</td>\n",
       "      <td>1.7</td>\n",
       "      <td>3.8</td>\n",
       "      <td>2.5</td>\n",
       "      <td>10.9</td>\n",
       "      <td>2.5</td>\n",
       "      <td>2015</td>\n",
       "      <td>0.032490</td>\n",
       "      <td>0.001809</td>\n",
       "      <td>0.010195</td>\n",
       "      <td>0.000358</td>\n",
       "    </tr>\n",
       "    <tr>\n",
       "      <th>4</th>\n",
       "      <td>Total amount of people</td>\n",
       "      <td>31.2</td>\n",
       "      <td>3.3</td>\n",
       "      <td>2.4</td>\n",
       "      <td>1.5</td>\n",
       "      <td>0.2</td>\n",
       "      <td>34.7</td>\n",
       "      <td>1.6</td>\n",
       "      <td>3.2</td>\n",
       "      <td>2.1</td>\n",
       "      <td>9.2</td>\n",
       "      <td>2.2</td>\n",
       "      <td>2016</td>\n",
       "      <td>0.029347</td>\n",
       "      <td>0.001554</td>\n",
       "      <td>0.008745</td>\n",
       "      <td>0.000319</td>\n",
       "    </tr>\n",
       "    <tr>\n",
       "      <th>5</th>\n",
       "      <td>Total amount of people</td>\n",
       "      <td>26.8</td>\n",
       "      <td>2.6</td>\n",
       "      <td>2.1</td>\n",
       "      <td>1.3</td>\n",
       "      <td>0.2</td>\n",
       "      <td>34.1</td>\n",
       "      <td>1.6</td>\n",
       "      <td>3.1</td>\n",
       "      <td>1.9</td>\n",
       "      <td>9.0</td>\n",
       "      <td>2.2</td>\n",
       "      <td>2017</td>\n",
       "      <td>0.025064</td>\n",
       "      <td>0.001272</td>\n",
       "      <td>0.007561</td>\n",
       "      <td>0.000280</td>\n",
       "    </tr>\n",
       "    <tr>\n",
       "      <th>6</th>\n",
       "      <td>Total amount of people</td>\n",
       "      <td>23.7</td>\n",
       "      <td>2.2</td>\n",
       "      <td>2.1</td>\n",
       "      <td>1.1</td>\n",
       "      <td>0.2</td>\n",
       "      <td>31.8</td>\n",
       "      <td>1.4</td>\n",
       "      <td>2.6</td>\n",
       "      <td>1.7</td>\n",
       "      <td>7.8</td>\n",
       "      <td>1.9</td>\n",
       "      <td>2019</td>\n",
       "      <td>0.021652</td>\n",
       "      <td>0.000773</td>\n",
       "      <td>0.006002</td>\n",
       "      <td>0.000290</td>\n",
       "    </tr>\n",
       "  </tbody>\n",
       "</table>\n",
       "</div>"
      ],
      "text/plain": [
       "        Persoonskenmerken  Survey_total_crime  Survey_burglary  Survey_abuse  \\\n",
       "0  Total amount of people                35.8              3.9           1.3   \n",
       "1  Total amount of people                35.9              4.1           1.0   \n",
       "2  Total amount of people                33.7              3.9           0.9   \n",
       "3  Total amount of people                31.8              3.6           2.2   \n",
       "4  Total amount of people                31.2              3.3           2.4   \n",
       "5  Total amount of people                26.8              2.6           2.1   \n",
       "6  Total amount of people                23.7              2.2           2.1   \n",
       "\n",
       "   Survey_pickpocketing  Survey_robbery  Has_Felt_Unsafe  \\\n",
       "0                   1.9             0.2             36.6   \n",
       "1                   2.1             0.2             36.7   \n",
       "2                   1.9             0.2             35.9   \n",
       "3                   1.7             0.2             35.6   \n",
       "4                   1.5             0.2             34.7   \n",
       "5                   1.3             0.2             34.1   \n",
       "6                   1.1             0.2             31.8   \n",
       "\n",
       "   Has_Felt_Unsafe_often  Unsafe_pickpocketing  Unsafe_robbery  \\\n",
       "0                    1.8                   3.9             2.7   \n",
       "1                    1.9                   5.1             2.9   \n",
       "2                    1.8                   3.9             2.5   \n",
       "3                    1.7                   3.8             2.5   \n",
       "4                    1.6                   3.2             2.1   \n",
       "5                    1.6                   3.1             1.9   \n",
       "6                    1.4                   2.6             1.7   \n",
       "\n",
       "   Unsafe_burglary  Unsafe_abuse  year  Police_total_theft  \\\n",
       "0             10.2           2.4  2012            0.039237   \n",
       "1             12.1           2.5  2013            0.038776   \n",
       "2             11.0           2.3  2014            0.035212   \n",
       "3             10.9           2.5  2015            0.032490   \n",
       "4              9.2           2.2  2016            0.029347   \n",
       "5              9.0           2.2  2017            0.025064   \n",
       "6              7.8           1.9  2019            0.021652   \n",
       "\n",
       "   Police_pickpocketing  Police_total_burglary  Police_total_robbery  \n",
       "0              0.002328               0.013412              0.000615  \n",
       "1              0.002619               0.013241              0.000530  \n",
       "2              0.002079               0.011096              0.000407  \n",
       "3              0.001809               0.010195              0.000358  \n",
       "4              0.001554               0.008745              0.000319  \n",
       "5              0.001272               0.007561              0.000280  \n",
       "6              0.000773               0.006002              0.000290  "
      ]
     },
     "execution_count": 46,
     "metadata": {},
     "output_type": "execute_result"
    }
   ],
   "source": [
    "# realize that the amount of crimes Survey in the safety monitor is a lot higher then the once Survey at the police.\n",
    "# one reason would be that police only registed theft related crime while the scope of the survey questions was broader.\n",
    "# but even in the similiar topics there is a big difference\n",
    "bothboth\n",
    "#bothboth should have 7 rows with no nan values."
   ]
  },
  {
   "cell_type": "code",
   "execution_count": 47,
   "metadata": {
    "ExecuteTime": {
     "end_time": "2022-01-31T17:33:17.140250Z",
     "start_time": "2022-01-31T17:33:17.127777Z"
    }
   },
   "outputs": [],
   "source": [
    "# Normalizing all the data to better plot the trends.\n",
    "# this will however make the values worthless.\n",
    "bothboth_normal = pd.DataFrame(preprocessing.normalize(bothboth.iloc[:,1:],axis=0),columns=bothboth.iloc[:,1:].columns)"
   ]
  },
  {
   "cell_type": "code",
   "execution_count": 48,
   "metadata": {
    "ExecuteTime": {
     "end_time": "2022-01-31T17:33:17.155289Z",
     "start_time": "2022-01-31T17:33:17.143246Z"
    }
   },
   "outputs": [],
   "source": [
    "# denormalizing the year column\n",
    "bothboth_normal['year'] = bothboth['year']"
   ]
  },
  {
   "cell_type": "markdown",
   "metadata": {
    "heading_collapsed": true
   },
   "source": [
    "## <h1> Plotting graphs </h1>\n",
    "<p>\n",
    "    The Total group contains: \n",
    "    <br>\n",
    "    - The % of survey respondents that has felt unsafe in the year asked. \n",
    "    <br>\n",
    "    - The % of survey respondents that had any crime comitted to them (included non violent or 'non-personal' crimes like mail phishing) \n",
    "    <br>\n",
    "    - The amount of thefts registed by the police. Note: this does not include non-theft crimes like abuse & assault \n",
    "    <br> \n",
    "    <br>\n",
    "    The pickpocketing group contains: \n",
    "    <br>\n",
    "    - The % people from the survey afraid of being pickpocketed. \n",
    "    <br>\n",
    "    - The % people from the survey that experienced pickpocketing (succesfull & unsuccesfull) \n",
    "    <br>\n",
    "    - The amount of pickpocketing incidents registered at the police office. \n",
    "    <br> \n",
    "    <br>\n",
    "    Robbery contains: \n",
    "    <br>\n",
    "    - The % of people afraid of being robbed in the street, basically pickpocketing without the stealth. Violent & non violent \n",
    "    <br>\n",
    "    - The % of people that have been robbed on the street successfull & non succesfull, violent & non violent \n",
    "    <br>\n",
    "    - The amount of robberies registered at the police. \n",
    "    <br> \n",
    "    <br>\n",
    "    Burgarly contains: \n",
    "    <br>\n",
    "    - The % people being afraid that something could be stolen from the property (except car) \n",
    "    <br>\n",
    "    - The % of people that had someone attempt or succesfully steal something from the property (except car) \n",
    "    <br>\n",
    "    - The amount of theft from someones property that has been registered at the police (except car) \n",
    "    <br> \n",
    "    <br>\n",
    "    The abuse group only contains information from the survey datasets: \n",
    "    <br>\n",
    "    - The % of people that are afraid of being abused/assaulted \n",
    "    <br>\n",
    "    - The % of people that has been abused or assaulted \n",
    "    <br>\n",
    "    <br>\n",
    "    The data of  % of people is always regarding the survey responds during a specific year.\n",
    "</p>"
   ]
  },
  {
   "cell_type": "code",
   "execution_count": 49,
   "metadata": {
    "ExecuteTime": {
     "end_time": "2022-01-31T17:33:17.171286Z",
     "start_time": "2022-01-31T17:33:17.158277Z"
    },
    "hidden": true
   },
   "outputs": [],
   "source": [
    "pairings = {'Total':        ['Has_Felt_Unsafe', 'Survey_total_crime'],\n",
    "            'Pickpocketing':['Unsafe_pickpocketing', 'Survey_pickpocketing'],\n",
    "            'Robbery':      ['Unsafe_robbery', 'Survey_robbery'],\n",
    "            'Burglary':     ['Unsafe_burglary', 'Survey_burglary'],\n",
    "            'Abuse':        ['Unsafe_abuse', 'Survey_abuse']\n",
    "            }\n",
    "\n",
    "pairings2 = {'Total':       ['Has_Felt_Unsafe', 'Survey_total_crime','Police_total_theft'],\n",
    "            'Pickpocketing':['Unsafe_pickpocketing', 'Survey_pickpocketing','Police_pickpocketing'],\n",
    "            'Robbery':      ['Unsafe_robbery', 'Survey_robbery','Police_total_robbery'],\n",
    "            'Burglary':     ['Unsafe_burglary', 'Survey_burglary','Police_total_burglary'],\n",
    "            'Abuse':        ['Unsafe_abuse', 'Survey_abuse'] #no abuse statisitcs found from the police.\n",
    "            }"
   ]
  },
  {
   "cell_type": "code",
   "execution_count": 50,
   "metadata": {
    "ExecuteTime": {
     "end_time": "2022-01-31T17:33:17.186826Z",
     "start_time": "2022-01-31T17:33:17.174280Z"
    },
    "hidden": true
   },
   "outputs": [],
   "source": [
    "def interact_bar(df_key,key):\n",
    "    \n",
    "    ################################################################################\n",
    "    # Function to create a bar chart comparing the 'unsafety' feeling to the \n",
    "    # self Survey crime statistics.\n",
    "    #\n",
    "    # Arguments:\n",
    "    #\n",
    "    # key             a key present in the pairings dictionary to obtain the\n",
    "    #                 columns that will be ploted\n",
    "    # df_key          The year the data will get filtered on.\n",
    "    # \n",
    "    #\n",
    "    # Author:            Rients\n",
    "    # Date:              25/01/2022\n",
    "    #\n",
    "    ################################################################################\n",
    "    \n",
    "       \n",
    "    merge_df = both[df_key]\n",
    "    \n",
    "    fig = px.bar(merge_df, x='Persoonskenmerken', y=pairings[key], \n",
    "                 title='Survey Unsafety vs crimes per age group in ' + df_key, \n",
    "                 barmode='group',\n",
    "                 color_discrete_map={                       \n",
    "                                'some_group': '#88FF00',     # These aren't even the colors that show up nor does 'some group' exist \n",
    "                                'some_other_group': '#7700ff'# but removing them does make the colors change for the worse.\n",
    "                },                                           # this applies to all further graphs.\n",
    "                 labels={\n",
    "                     \"Persoonskenmerken\": \"Age groups\",\n",
    "                     \"value\": \"% of total population\",\n",
    "                     \"variable\": \"\"\n",
    "                 },\n",
    "            )\n",
    "    \n",
    "    fig.update_layout({\n",
    "    'template': 'plotly_dark',\n",
    "    #'plot_bgcolor': 'rgba(0, 0, 0, 0)',\n",
    "    #'paper_bgcolor': 'rgba(0, 0, 0, 0)',\n",
    "    })\n",
    "    \n",
    "    return fig"
   ]
  },
  {
   "cell_type": "code",
   "execution_count": 51,
   "metadata": {
    "ExecuteTime": {
     "end_time": "2022-01-31T17:33:17.202835Z",
     "start_time": "2022-01-31T17:33:17.189840Z"
    },
    "hidden": true
   },
   "outputs": [],
   "source": [
    "def interact_barbelplot(df_key,key):\n",
    "    \n",
    "    ################################################################################\n",
    "    # Function to display the differences between the feeling of unsafety and the\n",
    "    # self Survey crime statistics.\n",
    "    #\n",
    "    # Arguments:\n",
    "    #\n",
    "    # key             a key present in the pairings dictionary to obtain the\n",
    "    #                 columns that will be ploted\n",
    "    # df_key          The year the data will get filtered on.\n",
    "    # \n",
    "    #\n",
    "    # Author:            Rients\n",
    "    # Date:              25/01/2022\n",
    "    #\n",
    "    ################################################################################\n",
    "\n",
    "    merge_df = both[df_key]\n",
    "\n",
    "    fig = px.scatter(merge_df, x=pairings[key], y=merge_df['Persoonskenmerken'], labels={'variable':''},\n",
    "                    color_discrete_map={\n",
    "                                'some_group': '#88FF00',\n",
    "                                'some_other_group': '#7700ff'}\n",
    "                )\n",
    "                    \n",
    "    fig.update_layout(title_text = 'Survey Unsafety vs crimes per age group in  ' + df_key,\n",
    "        xaxis_title = \"% of total population\", yaxis_title = 'Age groups')\n",
    "    \n",
    "    \n",
    "    for i in range(merge_df.shape[0]):\n",
    "        fig.add_shape(\n",
    "            type='line',\n",
    "            x0=merge_df[pairings[key][0]].iloc[i], y0=merge_df.index[i], \n",
    "            x1=merge_df[pairings[key][1]].iloc[i], y1=merge_df.index[i],\n",
    "            line_color=\"#88FF00\")\n",
    "        \n",
    "    if key == 'Total':\n",
    "        fig.update_xaxes(range=[0, 60])\n",
    "    elif key == 'Burglary':\n",
    "        fig.update_xaxes(range=[0, 18])\n",
    "    else:\n",
    "        fig.update_xaxes(range=[-1, 9])\n",
    "        \n",
    "    # Changing the layout\n",
    "    fig.update_layout({\n",
    "    'template': 'plotly_dark',\n",
    "    #'plot_bgcolor': 'rgba(0, 0, 0, 0)',\n",
    "    #'paper_bgcolor': 'rgba(0, 0, 0, 0)',\n",
    "    })\n",
    "    \n",
    "    # Giving the markers a green shading.\n",
    "    fig.update_traces(marker=dict(size=15,\n",
    "                            line=dict(width=1,\n",
    "                                    color='#88FF00')),\n",
    "                selector=dict(mode='markers'))\n",
    "    \n",
    "    \n",
    "    \n",
    "    return fig"
   ]
  },
  {
   "cell_type": "code",
   "execution_count": 52,
   "metadata": {
    "ExecuteTime": {
     "end_time": "2022-01-31T17:33:17.218619Z",
     "start_time": "2022-01-31T17:33:17.205830Z"
    },
    "hidden": true
   },
   "outputs": [],
   "source": [
    "def heatmap_plotter(df_key, key, all_sets):\n",
    "    \n",
    "    ################################################################################\n",
    "    # Function to plot a correlation heatmap for the data of the safety monitor\n",
    "    #\n",
    "    # Arguments:\n",
    "    #\n",
    "    # key             a key present in the pairings dictionary to obtain the\n",
    "    #                 columns that will be ploted\n",
    "    # df_key          The year the data will get filtered on.\n",
    "    # all_sets        A true or false boolean that will change if the heatmap will plot\n",
    "    #                 everything or just the pairings.\n",
    "    # \n",
    "    #\n",
    "    # Author:            Rients\n",
    "    # Date:              25/01/2022\n",
    "    #\n",
    "    ################################################################################\n",
    "    \n",
    "    \n",
    "    # Using the .corr() function to get the correlation between the fields.\n",
    "    # pandas.corr() default uses the pearson method, which is best suited.\n",
    "    dataset = both[df_key].corr()\n",
    "    \n",
    "    safe_col = safe[df_key].columns\n",
    "    crime_col = crime[df_key].columns\n",
    "    \n",
    "    if all_sets == False:\n",
    "        correlation = dataset[safe_col[1:]].loc[crime_col[1:]]    \n",
    "    else:\n",
    "        # Getting only the pairings rows & columns\n",
    "        correlation = dataset[pairings[key]].loc[pairings[key]]\n",
    "    \n",
    "        \n",
    "    fig = px.imshow(correlation, aspect=\"auto\", zmin=0, zmax=1, color_continuous_scale='Aggrnyl')\n",
    "    \n",
    "    fig.update_layout(title_text = 'Correlation between survey dataset columns in ' + df_key,\n",
    "        yaxis_title = \"Reported crimes\", xaxis_title = 'Feeling unsafe')\n",
    "    \n",
    "    fig.update_layout({\n",
    "    'template': 'plotly_dark',\n",
    "    #'plot_bgcolor': 'rgba(0, 0, 0, 0)',\n",
    "    #'paper_bgcolor': 'rgba(0, 0, 0, 0)',\n",
    "    })\n",
    "    \n",
    "    return fig"
   ]
  },
  {
   "cell_type": "code",
   "execution_count": 53,
   "metadata": {
    "ExecuteTime": {
     "end_time": "2022-01-31T17:33:17.234623Z",
     "start_time": "2022-01-31T17:33:17.222609Z"
    },
    "hidden": true
   },
   "outputs": [],
   "source": [
    "def monitor_line(data_set):\n",
    "    \n",
    "    ################################################################################\n",
    "    # Function to plot the yearly line trends from the safetymonitor research.\n",
    "    #\n",
    "    # Arguments:\n",
    "    #\n",
    "    # data_set           Either 'Both,'Survey Safety' or 'Survey crimes',\n",
    "    #                    this decides which data will be plotted           \n",
    "    # \n",
    "    # Author:            Rients\n",
    "    # Date:              25/01/2022\n",
    "    #\n",
    "    ################################################################################\n",
    "    \n",
    "    \n",
    "    df = both_total\n",
    "    \n",
    "    \n",
    "    # Deciding which data to show. Altough it is always possible to just press the lines in the legend to remove them\n",
    "    if data_set == 'Both':\n",
    "        y_col = both_total.iloc[:,1:-1].columns\n",
    "    elif data_set == 'Survey Safety':\n",
    "        y_col = both_total.iloc[:,6:-1].columns\n",
    "    elif data_set == 'Survey crimes':\n",
    "        y_col = both_total.iloc[:,1:-7].columns\n",
    "    \n",
    "    \n",
    "    fig = px.line(df, x='year',y = y_col,\n",
    "                   color_discrete_map={\n",
    "                                'some_group': '#88FF00',\n",
    "                                'some_other_group': '#7700ff'\n",
    "                })\n",
    "    \n",
    "    fig.update_layout(title_text = \"\"\"Line graph of survey dataset statistics per year  \"\"\" ,\n",
    "        yaxis_title = \"% of people affected\", xaxis_title = 'Years',\n",
    "        )\n",
    "    \n",
    "    fig.update_layout({\n",
    "    'template': 'plotly_dark',\n",
    "    #'plot_bgcolor': 'rgba(0, 0, 0, 0)',\n",
    "    #'paper_bgcolor': 'rgba(0, 0, 0, 0)',\n",
    "    })\n",
    "    \n",
    "    \n",
    "    return fig"
   ]
  },
  {
   "cell_type": "code",
   "execution_count": 54,
   "metadata": {
    "ExecuteTime": {
     "end_time": "2022-01-31T17:33:17.250622Z",
     "start_time": "2022-01-31T17:33:17.239620Z"
    },
    "hidden": true
   },
   "outputs": [],
   "source": [
    "def police_bar():\n",
    "    \n",
    "    ################################################################################\n",
    "    # Function to plot the line trends from the police Survey dataset.           \n",
    "    # \n",
    "    # Author:            Rients\n",
    "    # Date:              25/01/2022\n",
    "    #\n",
    "    ################################################################################ \n",
    "    \n",
    "    df = police\n",
    "    \n",
    "    fig = px.line(df,x='year',y=['Police_total_theft', 'Police_pickpocketing', 'Police_total_burglary', \n",
    "                                 'Police_total_robbery'],\n",
    "                   color_discrete_map={\n",
    "                                'some_group': '#88FF00',\n",
    "                                'some_other_group': '#7700ff'\n",
    "                })\n",
    "    \n",
    "    fig.update_layout(title_text = 'Line graph of police registered crimes per year  ' ,\n",
    "        yaxis_title = \"Amount of reports\", xaxis_title = 'Years')\n",
    "    \n",
    "    fig.update_layout({\n",
    "    'template': 'plotly_dark',\n",
    "    #'plot_bgcolor': 'rgba(0, 0, 0, 0)',\n",
    "    #'paper_bgcolor': 'rgba(0, 0, 0, 0)',\n",
    "    })\n",
    "    \n",
    "    \n",
    "    return fig\n",
    "    "
   ]
  },
  {
   "cell_type": "code",
   "execution_count": 55,
   "metadata": {
    "ExecuteTime": {
     "end_time": "2022-01-31T17:33:17.266618Z",
     "start_time": "2022-01-31T17:33:17.253629Z"
    },
    "hidden": true
   },
   "outputs": [],
   "source": [
    "def all_lines(key):\n",
    "    \n",
    "    \n",
    "    ################################################################################\n",
    "    # Function to plot all the normalized values per year.\n",
    "    #\n",
    "    # Arguments:\n",
    "    #\n",
    "    # key             a key present in the pairings dictionary to obtain the\n",
    "    #                 columns that will be ploted\n",
    "    #\n",
    "    # Author:            Rients\n",
    "    # Date:              25/01/2022\n",
    "    #\n",
    "    ################################################################################\n",
    "    \n",
    "    df = bothboth_normal\n",
    "    \n",
    "    \n",
    "    fig = px.line(df, x='year', y = pairings2[key],                   \n",
    "                  color_discrete_map={\n",
    "                                'some_group': '#88FF00',\n",
    "                                'some_other_group': '#7700ff'\n",
    "                })\n",
    "    \n",
    "    fig.update_layout(title_text = \"\"\"Line graph of paired statistics per year  \"\"\" ,\n",
    "        xaxis_title = \"Years\", yaxis_title = 'Normalized values',\n",
    "        )\n",
    "    \n",
    "    fig.update_layout({\n",
    "    'template': 'plotly_dark',\n",
    "    #'plot_bgcolor': 'rgba(0, 0, 0, 0)',\n",
    "    #'paper_bgcolor': 'rgba(0, 0, 0, 0)',\n",
    "    })\n",
    "    \n",
    "    \n",
    "    return fig"
   ]
  },
  {
   "cell_type": "markdown",
   "metadata": {},
   "source": [
    "## <h2> Creating text to add to the dashboard </h2>"
   ]
  },
  {
   "cell_type": "code",
   "execution_count": 56,
   "metadata": {
    "ExecuteTime": {
     "end_time": "2022-01-31T17:33:17.281726Z",
     "start_time": "2022-01-31T17:33:17.269619Z"
    }
   },
   "outputs": [],
   "source": [
    "group_text = \"\"\" \n",
    "<p>\n",
    "    The Total group contains: \n",
    "    <br>\n",
    "    - The % of survey respondents that has felt unsafe in the year asked. \n",
    "    <br>\n",
    "    - The % of survey respondents that had any crime comitted to them (included non violent or 'non-personal' crimes like mail phishing) \n",
    "    <br>\n",
    "    - The amount of thefts registed by the police. Note: this does not include non-theft crimes like abuse & assault \n",
    "    <br> \n",
    "    <br>\n",
    "    The pickpocketing group contains: \n",
    "    <br>\n",
    "    - The % people from the survey afraid of being pickpocketed. \n",
    "    <br>\n",
    "    - The % people from the survey that experienced pickpocketing (succesfull & unsuccesfull) \n",
    "    <br>\n",
    "    - The amount of pickpocketing incidents registered at the police office. \n",
    "    <br> \n",
    "    <br>\n",
    "    Robbery contains: \n",
    "    <br>\n",
    "    - The % of people afraid of being robbed in the street, basically pickpocketing without the stealth. Violent & non violent \n",
    "    <br>\n",
    "    - The % of people that have been robbed on the street successfull & non succesfull, violent & non violent \n",
    "    <br>\n",
    "    - The amount of robberies registered at the police. \n",
    "    <br> \n",
    "    <br>\n",
    "    Burgarly contains: \n",
    "    <br>\n",
    "    - The % people being afraid that something could be stolen from the property (except car) \n",
    "    <br>\n",
    "    - The % of people that had someone attempt or succesfully steal something from the property (except car) \n",
    "    <br>\n",
    "    - The amount of theft from someones property that has been registered at the police (except car) \n",
    "    <br> \n",
    "    <br>\n",
    "    The abuse group only contains information from the survey datasets: \n",
    "    <br>\n",
    "    - The % of people that are afraid of being abused/assaulted \n",
    "    <br>\n",
    "    - The % of people that has been abused or assaulted \n",
    "    <br>\n",
    "    <br>\n",
    "    The data of  % of people is always regarding the survey responds during a specific year.\n",
    "</p>\"\"\""
   ]
  },
  {
   "cell_type": "code",
   "execution_count": 57,
   "metadata": {
    "ExecuteTime": {
     "end_time": "2022-01-31T17:33:17.297494Z",
     "start_time": "2022-01-31T17:33:17.284739Z"
    }
   },
   "outputs": [],
   "source": [
    "widget_text = \"\"\"\n",
    "<p>\n",
    "    The buttons at the top allow for switching between the different pairings. \n",
    "    <br>\n",
    "    The heatmap only shows pairings if the the checkbox \"Only show selected pairs\" isn't selected. \n",
    "    <br>\n",
    "    Explanation about the parings can be also be found in the sidebar. \n",
    "    <br> \n",
    "    <br>\n",
    "    The Year widget allows to you to switch between different years. \n",
    "    <br> \n",
    "    <br>\n",
    "    The which type of data widget only applies to the middle line graph in the per year tab. \n",
    "    <br>\n",
    "    It allows to switch between showing the feeling of unsafety against the Survey crimes in the survey \n",
    "    <br> \n",
    "    <br>\n",
    "    The show selected pairs checkbox changes the heatmap to only show the pairs selected with the top buttons.\n",
    "    <br>\n",
    "    In addition, when clicking a label in a graph it will remove the corresponding line/bar\n",
    "</p>\n",
    "    \"\"\""
   ]
  },
  {
   "cell_type": "code",
   "execution_count": 58,
   "metadata": {
    "ExecuteTime": {
     "end_time": "2022-01-31T17:33:17.312531Z",
     "start_time": "2022-01-31T17:33:17.300484Z"
    }
   },
   "outputs": [],
   "source": [
    "line_graph_text = \"\"\"\n",
    "<h1>Yearly trends between statistics </h1> \n",
    "<p>\n",
    "    The first line graph shows the normalized values of the different groups plotted from 2012 to 2019. (Skipping 2018) \n",
    "    <br>\n",
    "    In this graph it is clearly visible that the ‘Total’ group, \n",
    "    the pickpocketing group, and burglary group all behave in the same way and are on a downward trend from 2013 onwards. \n",
    "    <br> \n",
    "    <br>\n",
    "    This confirms the hypothesis that peoples perceived safety correlates with the actual crime rates\n",
    "    <br>\n",
    "    <br>    \n",
    "    <i> If the graphs clip or don't fully cover the screen, zoom back and forth using ctrl + mousewheel to rescale the images. \n",
    "    Or press the autoscale button on the individual graphs <i>\n",
    "</p>\n",
    "\"\"\""
   ]
  },
  {
   "cell_type": "code",
   "execution_count": 59,
   "metadata": {
    "ExecuteTime": {
     "end_time": "2022-01-31T17:33:17.328534Z",
     "start_time": "2022-01-31T17:33:17.314520Z"
    }
   },
   "outputs": [],
   "source": [
    "age_group_text = \"\"\" <h1> The correlation between perceived safety & actual crime rates </h1> \n",
    "<p>\n",
    "    The barchart shows a clear correlation between most of the paired groups. \n",
    "    This can also be seen in the heatmap were almost all groups for each year have a correlation above 0.70  \n",
    "    <br>\n",
    "    <br>\n",
    "    <i> If the graphs clip or don't fully cover the screen, zoom back and forth using ctrl + mousewheel to rescale the images. \n",
    "    Or press the autoscale button on the individual graphs <i>\n",
    "</p>   \n",
    "\"\"\""
   ]
  },
  {
   "cell_type": "code",
   "execution_count": 60,
   "metadata": {
    "ExecuteTime": {
     "end_time": "2022-01-31T17:33:17.344539Z",
     "start_time": "2022-01-31T17:33:17.332524Z"
    }
   },
   "outputs": [],
   "source": [
    "group_explanation = pn.Card(group_text, title='Explanation regarding the pairings', collapsed=True)\n",
    "widget_explanation = pn.Card(widget_text, title='Explanation regarding the widgets', collapsed=True)"
   ]
  },
  {
   "cell_type": "markdown",
   "metadata": {},
   "source": [
    "## <h2> Adding widgets to the plot functions </h2>"
   ]
  },
  {
   "cell_type": "code",
   "execution_count": 61,
   "metadata": {
    "ExecuteTime": {
     "end_time": "2022-01-31T17:33:18.106657Z",
     "start_time": "2022-01-31T17:33:17.347527Z"
    }
   },
   "outputs": [],
   "source": [
    "# Creating the widgets\n",
    "pairing_selection = pn.widgets.RadioButtonGroup(options = ['Total','Pickpocketing','Robbery','Burglary','Abuse'], \n",
    "                                                button_type = 'success')\n",
    "year_selection = pn.widgets.Select(name='Year', options=year_list, value='2019')\n",
    "yes_no = pn.widgets.Checkbox(name='Only show selected pairs')\n",
    "dataset_select = pn.widgets.Select(name='Which type of data:', options=['Both','Survey crimes','Survey Safety'], \n",
    "                                   value='Both')\n",
    "\n",
    "# applying the widgets \n",
    "interactive_barchart = pn.interact(interact_bar, df_key = year_selection ,key = pairing_selection)\n",
    "interactive_barbell = pn.interact(interact_barbelplot, df_key = year_selection, key = pairing_selection)\n",
    "interactive_heatmap = pn.interact(heatmap_plotter, df_key = year_selection, key = pairing_selection, all_sets = yes_no)\n",
    "interactive_linegraph = pn.interact(monitor_line, data_set = dataset_select)\n",
    "interactive_alllinegraph = pn.interact(all_lines, key = pairing_selection)"
   ]
  },
  {
   "cell_type": "code",
   "execution_count": 62,
   "metadata": {
    "ExecuteTime": {
     "end_time": "2022-01-31T17:33:18.122679Z",
     "start_time": "2022-01-31T17:33:18.110666Z"
    }
   },
   "outputs": [],
   "source": [
    "def tabs():\n",
    "    \n",
    "    ################################################################################\n",
    "    # Function to create two different tabs, 1 for the functions per age group\n",
    "    # and another for plot functions per year\n",
    "    #\n",
    "    # Author:            Rients\n",
    "    # Date:              25/01/2022\n",
    "    #\n",
    "    ################################################################################\n",
    "    \n",
    "\n",
    "    tabs = pn.Tabs(dynamic=False)\n",
    "    \n",
    "    age_group = pn.Column(\n",
    "        age_group_text, \n",
    "        pn.layout.Divider(),\n",
    "        pn.Row(\n",
    "            interactive_barchart[1], interactive_heatmap[1]),\n",
    "        interactive_barbell[1],\n",
    "        pn.layout.Divider()\n",
    "            )\n",
    "    \n",
    "    per_year = pn.Column(\n",
    "        line_graph_text,\n",
    "        pn.layout.Divider(),\n",
    "        interactive_alllinegraph[1],\n",
    "        pn.layout.Divider(),\n",
    "        interactive_linegraph[1],\n",
    "        pn.layout.Divider(), \n",
    "        police_bar(),\n",
    "        pn.layout.Divider())\n",
    "    \n",
    "\n",
    "    tabs.extend([('Per Age Group', age_group),\n",
    "                 ('Per year', per_year),\n",
    "                 ])\n",
    "\n",
    "    return tabs"
   ]
  },
  {
   "cell_type": "markdown",
   "metadata": {},
   "source": [
    "## <h1> Dashboard </h1>"
   ]
  },
  {
   "cell_type": "code",
   "execution_count": 63,
   "metadata": {
    "ExecuteTime": {
     "end_time": "2022-01-31T17:33:18.138143Z",
     "start_time": "2022-01-31T17:33:18.125668Z"
    }
   },
   "outputs": [],
   "source": [
    "def prog1_dash():\n",
    "    \n",
    "    ################################################################################\n",
    "    # Function to create a dashboard in which all the graphs are shown.\n",
    "    #\n",
    "    # Author:            Rients\n",
    "    # Date:              25/01/2022\n",
    "    #\n",
    "    ################################################################################\n",
    "    \n",
    "    template = pn.template.FastListTemplate(\n",
    "        title=\"Perceived safety vs Actual crime\",\n",
    "        header_background='#6FD100',\n",
    "        accent_base_color='#88FF00',\n",
    "        #background_color='#000000',\n",
    "        neutral_color='#000000',\n",
    "        logo=\"https://cdn.freebiesupply.com/logos/large/2x/hanzehogeschool-logo-png-transparent.png\",\n",
    "        sidebar_width=400,\n",
    "        theme=DarkTheme)\n",
    "\n",
    "    # adding different components to the sidebar.\n",
    "    #pn.config.sizing_mode='stretch_width'\n",
    "    template.sidebar.append(pairing_selection)\n",
    "    template.sidebar.append(pn.layout.Divider())\n",
    "    template.sidebar.append(pn.Column(\n",
    "        year_selection, \n",
    "        dataset_select))\n",
    "    template.sidebar.append(pn.layout.Divider())\n",
    "    template.sidebar.append(yes_no)\n",
    "    template.sidebar.append(pn.layout.Divider())\n",
    "    template.sidebar.append(widget_explanation)\n",
    "    template.sidebar.append(group_explanation)\n",
    "    template.sidebar.append(pn.layout.Divider())\n",
    "    \n",
    "    \n",
    "    template.main.append(tabs())\n",
    "                         \n",
    "            \n",
    "\n",
    "    return template"
   ]
  },
  {
   "cell_type": "code",
   "execution_count": 64,
   "metadata": {
    "ExecuteTime": {
     "end_time": "2022-01-31T17:33:18.186147Z",
     "start_time": "2022-01-31T17:33:18.141129Z"
    }
   },
   "outputs": [
    {
     "name": "stdout",
     "output_type": "stream",
     "text": [
      "Launching server at http://localhost:57908\n"
     ]
    },
    {
     "data": {
      "text/plain": [
       "<bokeh.server.server.Server at 0x2006c73a220>"
      ]
     },
     "execution_count": 64,
     "metadata": {},
     "output_type": "execute_result"
    }
   ],
   "source": [
    "# serving the dashboard through a dict makes it possible to switch between darktheme & default theme.\n",
    "prog1 = {\n",
    "    \"\":prog1_dash\n",
    "    }\n",
    "\n",
    "pn.serve(prog1)"
   ]
  }
 ],
 "metadata": {
  "kernelspec": {
   "display_name": "Python 3 (ipykernel)",
   "language": "python",
   "name": "python3"
  },
  "language_info": {
   "codemirror_mode": {
    "name": "ipython",
    "version": 3
   },
   "file_extension": ".py",
   "mimetype": "text/x-python",
   "name": "python",
   "nbconvert_exporter": "python",
   "pygments_lexer": "ipython3",
   "version": "3.9.7"
  }
 },
 "nbformat": 4,
 "nbformat_minor": 2
}
