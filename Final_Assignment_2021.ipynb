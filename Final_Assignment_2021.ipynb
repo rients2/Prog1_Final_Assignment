{
 "cells": [
  {
   "cell_type": "markdown",
   "metadata": {},
   "source": [
    "## Final Assignment"
   ]
  },
  {
   "cell_type": "markdown",
   "metadata": {},
   "source": [
    "\n",
    "Before working on this assignment please read these instructions fully. Use blackboard to submit a link to your repository. \n",
    "\n",
    "On blackboard your find the assessment criteria. Please familiarize yourself with the criteria before beginning the assignment.\n",
    "\n",
    "This assignment requires that you to find at least two datasets on the web which are related, and that you build an application that visualize these datasets to answer a research question with the broad topic of **health** or **agriculture** in the **region where you were born**. The region can be a city, town or a provence.  \n",
    "\n",
    "The research question should be a question with a causual nature. For instance questions like: How does independent variable X influence the dependent variable of Y?\n",
    "\n",
    "The code should be programmed efficiently. Also identify the most critical part and write software test for this part. Take into account the performance of the dataprocessing"
   ]
  },
  {
   "cell_type": "markdown",
   "metadata": {},
   "source": [
    "### About the data\n",
    "\n",
    "You can merge these datasets with data from different regions if you like. For instance, you might want to compare the health effect of earhtquacks in Groningen versus Los Angelos USA. \n",
    "\n",
    "You are welcome to choose datasets at your discretion, but keep in mind they will be shared with others, so choose appropriate datasets. You are welcome to use datasets of your own as well, but minimual two datasets should be coming from the web and or API's. \n",
    "\n",
    "Also, you are welcome to preserve data in its original language, but for the purposes of grading you should provide english translations in your visualization. "
   ]
  },
  {
   "cell_type": "markdown",
   "metadata": {},
   "source": [
    "### Instructions:\n",
    "\n",
    "Define a research question, select data and code your data acquisition, data processing, data analysis and visualization. Write code to test most critical parts. Use a repository with a commit strategy and write a readme file. \n",
    "\n",
    "Write a small document with the following:\n",
    "- State the region and the domain category that your data sets are about \n",
    "- State the research question \n",
    "- Justify the chosen data storage and processing approach\n",
    "- Justify the chosen analysis approach\n",
    "- Justify the chosen data visualization approach\n",
    "\n",
    "Upload your document and the link of your repository to black board"
   ]
  },
  {
   "cell_type": "code",
   "execution_count": 54,
   "metadata": {},
   "outputs": [
    {
     "data": {
      "application/javascript": "\n(function(root) {\n  function now() {\n    return new Date();\n  }\n\n  var force = true;\n\n  if (typeof root._bokeh_onload_callbacks === \"undefined\" || force === true) {\n    root._bokeh_onload_callbacks = [];\n    root._bokeh_is_loading = undefined;\n  }\n\n  if (typeof (root._bokeh_timeout) === \"undefined\" || force === true) {\n    root._bokeh_timeout = Date.now() + 5000;\n    root._bokeh_failed_load = false;\n  }\n\n  function run_callbacks() {\n    try {\n      root._bokeh_onload_callbacks.forEach(function(callback) {\n        if (callback != null)\n          callback();\n      });\n    } finally {\n      delete root._bokeh_onload_callbacks\n    }\n    console.debug(\"Bokeh: all callbacks have finished\");\n  }\n\n  function load_libs(css_urls, js_urls, js_modules, callback) {\n    if (css_urls == null) css_urls = [];\n    if (js_urls == null) js_urls = [];\n    if (js_modules == null) js_modules = [];\n\n    root._bokeh_onload_callbacks.push(callback);\n    if (root._bokeh_is_loading > 0) {\n      console.debug(\"Bokeh: BokehJS is being loaded, scheduling callback at\", now());\n      return null;\n    }\n    if (js_urls.length === 0 && js_modules.length === 0) {\n      run_callbacks();\n      return null;\n    }\n    console.debug(\"Bokeh: BokehJS not loaded, scheduling load and callback at\", now());\n\n    function on_load() {\n      root._bokeh_is_loading--;\n      if (root._bokeh_is_loading === 0) {\n        console.debug(\"Bokeh: all BokehJS libraries/stylesheets loaded\");\n        run_callbacks()\n      }\n    }\n\n    function on_error() {\n      console.error(\"failed to load \" + url);\n    }\n\n    for (var i = 0; i < css_urls.length; i++) {\n      var url = css_urls[i];\n      const element = document.createElement(\"link\");\n      element.onload = on_load;\n      element.onerror = on_error;\n      element.rel = \"stylesheet\";\n      element.type = \"text/css\";\n      element.href = url;\n      console.debug(\"Bokeh: injecting link tag for BokehJS stylesheet: \", url);\n      document.body.appendChild(element);\n    }\n\n    var skip = [];\n    if (window.requirejs) {\n      window.requirejs.config({'packages': {}, 'paths': {'plotly': 'https://cdn.plot.ly/plotly-latest.min'}, 'shim': {}});\n      \n      require([\"plotly\"], function(Plotly) {\n\t\n\twindow.Plotly = Plotly\n\t\n\ton_load()\n      })\n      \n      root._bokeh_is_loading = css_urls.length + 1;\n    } else {\n      root._bokeh_is_loading = css_urls.length + js_urls.length + js_modules.length;\n    }\n    if (((window['Plotly'] !== undefined) && (!(window['Plotly'] instanceof HTMLElement))) || window.requirejs) {\n      var urls = ['https://cdn.plot.ly/plotly-latest.min.js'];\n      for (var i = 0; i < urls.length; i++) {\n        skip.push(urls[i])\n      }\n    }\n    for (var i = 0; i < js_urls.length; i++) {\n      var url = js_urls[i];\n      if (skip.indexOf(url) >= 0) {\n\tif (!window.requirejs) {\n\t  on_load();\n\t}\n\tcontinue;\n      }\n      var element = document.createElement('script');\n      element.onload = on_load;\n      element.onerror = on_error;\n      element.async = false;\n      element.src = url;\n      console.debug(\"Bokeh: injecting script tag for BokehJS library: \", url);\n      document.head.appendChild(element);\n    }\n    for (var i = 0; i < js_modules.length; i++) {\n      var url = js_modules[i];\n      if (skip.indexOf(url) >= 0) {\n\tif (!window.requirejs) {\n\t  on_load();\n\t}\n\tcontinue;\n      }\n      var element = document.createElement('script');\n      element.onload = on_load;\n      element.onerror = on_error;\n      element.async = false;\n      element.src = url;\n      element.type = \"module\";\n      console.debug(\"Bokeh: injecting script tag for BokehJS library: \", url);\n      document.head.appendChild(element);\n    }\n    if (!js_urls.length && !js_modules.length) {\n      on_load()\n    }\n  };\n\n  function inject_raw_css(css) {\n    const element = document.createElement(\"style\");\n    element.appendChild(document.createTextNode(css));\n    document.body.appendChild(element);\n  }\n\n  var js_urls = [\"https://code.jquery.com/jquery-3.5.1.min.js\", \"https://cdn.plot.ly/plotly-latest.min.js\", \"https://cdn.bokeh.org/bokeh/release/bokeh-2.4.2.min.js\", \"https://cdn.bokeh.org/bokeh/release/bokeh-gl-2.4.2.min.js\", \"https://cdn.bokeh.org/bokeh/release/bokeh-widgets-2.4.2.min.js\", \"https://cdn.bokeh.org/bokeh/release/bokeh-tables-2.4.2.min.js\", \"https://cdn.bokeh.org/bokeh/release/bokeh-mathjax-2.4.2.min.js\", \"https://unpkg.com/@holoviz/panel@0.12.6/dist/panel.min.js\"];\n  var js_modules = [];\n  var css_urls = [\"https://unpkg.com/@holoviz/panel@0.12.6/dist/css/alerts.css\", \"https://unpkg.com/@holoviz/panel@0.12.6/dist/css/card.css\", \"https://unpkg.com/@holoviz/panel@0.12.6/dist/css/dataframe.css\", \"https://unpkg.com/@holoviz/panel@0.12.6/dist/css/json.css\", \"https://unpkg.com/@holoviz/panel@0.12.6/dist/css/loading.css\", \"https://unpkg.com/@holoviz/panel@0.12.6/dist/css/markdown.css\", \"https://unpkg.com/@holoviz/panel@0.12.6/dist/css/widgets.css\"];\n  var inline_js = [\n    function(Bokeh) {\n      inject_raw_css(\"\\n    .bk.pn-loading.arcs:before {\\n      background-image: url(\\\"data:image/svg+xml;base64,PHN2ZyB4bWxucz0iaHR0cDovL3d3dy53My5vcmcvMjAwMC9zdmciIHhtbG5zOnhsaW5rPSJodHRwOi8vd3d3LnczLm9yZy8xOTk5L3hsaW5rIiBzdHlsZT0ibWFyZ2luOiBhdXRvOyBiYWNrZ3JvdW5kOiBub25lOyBkaXNwbGF5OiBibG9jazsgc2hhcGUtcmVuZGVyaW5nOiBhdXRvOyIgdmlld0JveD0iMCAwIDEwMCAxMDAiIHByZXNlcnZlQXNwZWN0UmF0aW89InhNaWRZTWlkIj4gIDxjaXJjbGUgY3g9IjUwIiBjeT0iNTAiIHI9IjMyIiBzdHJva2Utd2lkdGg9IjgiIHN0cm9rZT0iI2MzYzNjMyIgc3Ryb2tlLWRhc2hhcnJheT0iNTAuMjY1NDgyNDU3NDM2NjkgNTAuMjY1NDgyNDU3NDM2NjkiIGZpbGw9Im5vbmUiIHN0cm9rZS1saW5lY2FwPSJyb3VuZCI+ICAgIDxhbmltYXRlVHJhbnNmb3JtIGF0dHJpYnV0ZU5hbWU9InRyYW5zZm9ybSIgdHlwZT0icm90YXRlIiByZXBlYXRDb3VudD0iaW5kZWZpbml0ZSIgZHVyPSIxcyIga2V5VGltZXM9IjA7MSIgdmFsdWVzPSIwIDUwIDUwOzM2MCA1MCA1MCI+PC9hbmltYXRlVHJhbnNmb3JtPiAgPC9jaXJjbGU+PC9zdmc+\\\");\\n      max-height: 400px;\\n    }\\n    \");\n    },\n    function(Bokeh) {\n      Bokeh.set_log_level(\"info\");\n    },\n    function(Bokeh) {} // ensure no trailing comma for IE\n  ];\n\n  function run_inline_js() {\n    if ((root.Bokeh !== undefined) || (force === true)) {\n      for (var i = 0; i < inline_js.length; i++) {\n        inline_js[i].call(root, root.Bokeh);\n      }} else if (Date.now() < root._bokeh_timeout) {\n      setTimeout(run_inline_js, 100);\n    } else if (!root._bokeh_failed_load) {\n      console.log(\"Bokeh: BokehJS failed to load within specified timeout.\");\n      root._bokeh_failed_load = true;\n    }\n  }\n\n  if (root._bokeh_is_loading === 0) {\n    console.debug(\"Bokeh: BokehJS loaded, going straight to plotting\");\n    run_inline_js();\n  } else {\n    load_libs(css_urls, js_urls, js_modules, function() {\n      console.debug(\"Bokeh: BokehJS plotting callback run at\", now());\n      run_inline_js();\n    });\n  }\n}(window));",
      "application/vnd.holoviews_load.v0+json": ""
     },
     "metadata": {},
     "output_type": "display_data"
    },
    {
     "data": {
      "application/javascript": "\nif ((window.PyViz === undefined) || (window.PyViz instanceof HTMLElement)) {\n  window.PyViz = {comms: {}, comm_status:{}, kernels:{}, receivers: {}, plot_index: []}\n}\n\n\n    function JupyterCommManager() {\n    }\n\n    JupyterCommManager.prototype.register_target = function(plot_id, comm_id, msg_handler) {\n      if (window.comm_manager || ((window.Jupyter !== undefined) && (Jupyter.notebook.kernel != null))) {\n        var comm_manager = window.comm_manager || Jupyter.notebook.kernel.comm_manager;\n        comm_manager.register_target(comm_id, function(comm) {\n          comm.on_msg(msg_handler);\n        });\n      } else if ((plot_id in window.PyViz.kernels) && (window.PyViz.kernels[plot_id])) {\n        window.PyViz.kernels[plot_id].registerCommTarget(comm_id, function(comm) {\n          comm.onMsg = msg_handler;\n        });\n      } else if (typeof google != 'undefined' && google.colab.kernel != null) {\n        google.colab.kernel.comms.registerTarget(comm_id, (comm) => {\n          var messages = comm.messages[Symbol.asyncIterator]();\n          function processIteratorResult(result) {\n            var message = result.value;\n            console.log(message)\n            var content = {data: message.data, comm_id};\n            var buffers = []\n            for (var buffer of message.buffers || []) {\n              buffers.push(new DataView(buffer))\n            }\n            var metadata = message.metadata || {};\n            var msg = {content, buffers, metadata}\n            msg_handler(msg);\n            return messages.next().then(processIteratorResult);\n          }\n          return messages.next().then(processIteratorResult);\n        })\n      }\n    }\n\n    JupyterCommManager.prototype.get_client_comm = function(plot_id, comm_id, msg_handler) {\n      if (comm_id in window.PyViz.comms) {\n        return window.PyViz.comms[comm_id];\n      } else if (window.comm_manager || ((window.Jupyter !== undefined) && (Jupyter.notebook.kernel != null))) {\n        var comm_manager = window.comm_manager || Jupyter.notebook.kernel.comm_manager;\n        var comm = comm_manager.new_comm(comm_id, {}, {}, {}, comm_id);\n        if (msg_handler) {\n          comm.on_msg(msg_handler);\n        }\n      } else if ((plot_id in window.PyViz.kernels) && (window.PyViz.kernels[plot_id])) {\n        var comm = window.PyViz.kernels[plot_id].connectToComm(comm_id);\n        comm.open();\n        if (msg_handler) {\n          comm.onMsg = msg_handler;\n        }\n      } else if (typeof google != 'undefined' && google.colab.kernel != null) {\n        var comm_promise = google.colab.kernel.comms.open(comm_id)\n        comm_promise.then((comm) => {\n          window.PyViz.comms[comm_id] = comm;\n          if (msg_handler) {\n            var messages = comm.messages[Symbol.asyncIterator]();\n            function processIteratorResult(result) {\n              var message = result.value;\n              var content = {data: message.data};\n              var metadata = message.metadata || {comm_id};\n              var msg = {content, metadata}\n              msg_handler(msg);\n              return messages.next().then(processIteratorResult);\n            }\n            return messages.next().then(processIteratorResult);\n          }\n        }) \n        var sendClosure = (data, metadata, buffers, disposeOnDone) => {\n          return comm_promise.then((comm) => {\n            comm.send(data, metadata, buffers, disposeOnDone);\n          });\n        };\n        var comm = {\n          send: sendClosure\n        };\n      }\n      window.PyViz.comms[comm_id] = comm;\n      return comm;\n    }\n    window.PyViz.comm_manager = new JupyterCommManager();\n    \n\n\nvar JS_MIME_TYPE = 'application/javascript';\nvar HTML_MIME_TYPE = 'text/html';\nvar EXEC_MIME_TYPE = 'application/vnd.holoviews_exec.v0+json';\nvar CLASS_NAME = 'output';\n\n/**\n * Render data to the DOM node\n */\nfunction render(props, node) {\n  var div = document.createElement(\"div\");\n  var script = document.createElement(\"script\");\n  node.appendChild(div);\n  node.appendChild(script);\n}\n\n/**\n * Handle when a new output is added\n */\nfunction handle_add_output(event, handle) {\n  var output_area = handle.output_area;\n  var output = handle.output;\n  if ((output.data == undefined) || (!output.data.hasOwnProperty(EXEC_MIME_TYPE))) {\n    return\n  }\n  var id = output.metadata[EXEC_MIME_TYPE][\"id\"];\n  var toinsert = output_area.element.find(\".\" + CLASS_NAME.split(' ')[0]);\n  if (id !== undefined) {\n    var nchildren = toinsert.length;\n    var html_node = toinsert[nchildren-1].children[0];\n    html_node.innerHTML = output.data[HTML_MIME_TYPE];\n    var scripts = [];\n    var nodelist = html_node.querySelectorAll(\"script\");\n    for (var i in nodelist) {\n      if (nodelist.hasOwnProperty(i)) {\n        scripts.push(nodelist[i])\n      }\n    }\n\n    scripts.forEach( function (oldScript) {\n      var newScript = document.createElement(\"script\");\n      var attrs = [];\n      var nodemap = oldScript.attributes;\n      for (var j in nodemap) {\n        if (nodemap.hasOwnProperty(j)) {\n          attrs.push(nodemap[j])\n        }\n      }\n      attrs.forEach(function(attr) { newScript.setAttribute(attr.name, attr.value) });\n      newScript.appendChild(document.createTextNode(oldScript.innerHTML));\n      oldScript.parentNode.replaceChild(newScript, oldScript);\n    });\n    if (JS_MIME_TYPE in output.data) {\n      toinsert[nchildren-1].children[1].textContent = output.data[JS_MIME_TYPE];\n    }\n    output_area._hv_plot_id = id;\n    if ((window.Bokeh !== undefined) && (id in Bokeh.index)) {\n      window.PyViz.plot_index[id] = Bokeh.index[id];\n    } else {\n      window.PyViz.plot_index[id] = null;\n    }\n  } else if (output.metadata[EXEC_MIME_TYPE][\"server_id\"] !== undefined) {\n    var bk_div = document.createElement(\"div\");\n    bk_div.innerHTML = output.data[HTML_MIME_TYPE];\n    var script_attrs = bk_div.children[0].attributes;\n    for (var i = 0; i < script_attrs.length; i++) {\n      toinsert[toinsert.length - 1].childNodes[1].setAttribute(script_attrs[i].name, script_attrs[i].value);\n    }\n    // store reference to server id on output_area\n    output_area._bokeh_server_id = output.metadata[EXEC_MIME_TYPE][\"server_id\"];\n  }\n}\n\n/**\n * Handle when an output is cleared or removed\n */\nfunction handle_clear_output(event, handle) {\n  var id = handle.cell.output_area._hv_plot_id;\n  var server_id = handle.cell.output_area._bokeh_server_id;\n  if (((id === undefined) || !(id in PyViz.plot_index)) && (server_id !== undefined)) { return; }\n  var comm = window.PyViz.comm_manager.get_client_comm(\"hv-extension-comm\", \"hv-extension-comm\", function () {});\n  if (server_id !== null) {\n    comm.send({event_type: 'server_delete', 'id': server_id});\n    return;\n  } else if (comm !== null) {\n    comm.send({event_type: 'delete', 'id': id});\n  }\n  delete PyViz.plot_index[id];\n  if ((window.Bokeh !== undefined) & (id in window.Bokeh.index)) {\n    var doc = window.Bokeh.index[id].model.document\n    doc.clear();\n    const i = window.Bokeh.documents.indexOf(doc);\n    if (i > -1) {\n      window.Bokeh.documents.splice(i, 1);\n    }\n  }\n}\n\n/**\n * Handle kernel restart event\n */\nfunction handle_kernel_cleanup(event, handle) {\n  delete PyViz.comms[\"hv-extension-comm\"];\n  window.PyViz.plot_index = {}\n}\n\n/**\n * Handle update_display_data messages\n */\nfunction handle_update_output(event, handle) {\n  handle_clear_output(event, {cell: {output_area: handle.output_area}})\n  handle_add_output(event, handle)\n}\n\nfunction register_renderer(events, OutputArea) {\n  function append_mime(data, metadata, element) {\n    // create a DOM node to render to\n    var toinsert = this.create_output_subarea(\n    metadata,\n    CLASS_NAME,\n    EXEC_MIME_TYPE\n    );\n    this.keyboard_manager.register_events(toinsert);\n    // Render to node\n    var props = {data: data, metadata: metadata[EXEC_MIME_TYPE]};\n    render(props, toinsert[0]);\n    element.append(toinsert);\n    return toinsert\n  }\n\n  events.on('output_added.OutputArea', handle_add_output);\n  events.on('output_updated.OutputArea', handle_update_output);\n  events.on('clear_output.CodeCell', handle_clear_output);\n  events.on('delete.Cell', handle_clear_output);\n  events.on('kernel_ready.Kernel', handle_kernel_cleanup);\n\n  OutputArea.prototype.register_mime_type(EXEC_MIME_TYPE, append_mime, {\n    safe: true,\n    index: 0\n  });\n}\n\nif (window.Jupyter !== undefined) {\n  try {\n    var events = require('base/js/events');\n    var OutputArea = require('notebook/js/outputarea').OutputArea;\n    if (OutputArea.prototype.mime_types().indexOf(EXEC_MIME_TYPE) == -1) {\n      register_renderer(events, OutputArea);\n    }\n  } catch(err) {\n  }\n}\n",
      "application/vnd.holoviews_load.v0+json": ""
     },
     "metadata": {},
     "output_type": "display_data"
    }
   ],
   "source": [
    "import pandas as pd\n",
    "import numpy as np\n",
    "import matplotlib.pyplot as plt\n",
    "import seaborn as sns\n",
    "import plotly.express as px\n",
    "import plotly.graph_objects as go\n",
    "import panel as pn\n",
    "import cbsodata\n",
    "import bokeh\n",
    "from bokeh.io import output_notebook\n",
    "from bokeh.io import output_file\n",
    "from bokeh.plotting import figure, show, curdoc\n",
    "from bokeh.layouts import gridplot\n",
    "from bokeh.io import output_notebook\n",
    "from bokeh.models import ColumnDataSource, Row, Column, CustomJS, DataTable, TableColumn, Whisker\n",
    "from bokeh.models import HTMLTemplateFormatter\n",
    "from bokeh.models import Range1d\n",
    "from bokeh.models import HoverTool\n",
    "from bokeh.models import Range1d\n",
    "from bokeh.transform import factor_cmap\n",
    "from panel.interact import interact\n",
    "from panel.template import DarkTheme\n",
    "import yaml\n",
    "\n",
    "pn.extension(comms='vscode',sizing_mode='scale_width')"
   ]
  },
  {
   "cell_type": "code",
   "execution_count": 55,
   "metadata": {},
   "outputs": [],
   "source": [
    "# old way of obtaining data and combining it with the metadata\n",
    "\n",
    "# def get_config():\n",
    "#     \"\"\" \n",
    "#     Read in config file and return it as a dictionary. \n",
    "#     \"\"\"\n",
    "#     with open(\"C:/Users/rie12/Desktop/config.yaml\", 'r') as stream:\n",
    "#         config = yaml.safe_load(stream)\n",
    "#         return config\n",
    "    \n",
    "# path = get_config()['programming1']\n",
    "\n",
    "# crime_stat = pd.read_csv(path + '/safety_actual.csv', sep=';')\n",
    "# safe_per = pd.read_csv(path + '/safety_perceiv.csv', sep=';')\n",
    "\n",
    "# # meta data for the perceived safety file but can also be used for the crime file\n",
    "# meta_data_safe = pd.read_csv(path + '/81881NED_metadata.csv', sep=';', skiprows=1)\n",
    "\n",
    "# # getting the necessary personal characteristics for both datasets\n",
    "# meta_data_safe_persoon = meta_data_safe[['ID','Title']]\n",
    "# meta_data_safe_persoon = meta_data_safe_persoon[51:93]\n",
    "\n",
    "# # merging the safety and the meta data\n",
    "# safe_per = safe_per.merge(meta_data_safe_persoon, how='inner', right_on='ID',left_on='Persoonskenmerken')\n",
    "# # merging the crime and meta data\n",
    "# crime_stat = crime_stat.merge(meta_data_safe_persoon, how='inner', right_on='ID',left_on='Persoonskenmerken')"
   ]
  },
  {
   "cell_type": "code",
   "execution_count": 56,
   "metadata": {},
   "outputs": [],
   "source": [
    "# Makes pandas show all the columns and rows.\n",
    "pd.set_option('display.max_columns', None)"
   ]
  },
  {
   "cell_type": "code",
   "execution_count": 57,
   "metadata": {},
   "outputs": [],
   "source": [
    "# downloading the data using a libary provided by cbs. This already has the required metadata included.\n",
    "crime_stat = pd.DataFrame(cbsodata.get_data('83095NED'))\n",
    "safe_per = pd.DataFrame(cbsodata.get_data('81881NED'))\n",
    "\n",
    "# Very large file, il do it the easy way of pre selecting the tables I want.\n",
    "#crime_police = pd.DataFrame(cbsodata.get_data('83651NED'))\n",
    "\n",
    "crime_police = pd.read_csv('Geregistreerde_diefstallen3.csv',sep=';')\n",
    "\n",
    "# meta data, Currently not used.\n",
    "# metadata = pd.DataFrame(cbsodata.get_meta('81881NED','Persoonskenmerken'))\n",
    "# metadata = metadata[['Key','Title']]"
   ]
  },
  {
   "cell_type": "markdown",
   "metadata": {},
   "source": [
    "<h2> Data filtering function </h2>\n",
    "Function made to turn the dataframe into a plotable dataset"
   ]
  },
  {
   "cell_type": "code",
   "execution_count": 58,
   "metadata": {},
   "outputs": [],
   "source": [
    "def safety_file_filter(df, df_type='safety', year='2019'):\n",
    "    # obtaining only the age personal characteristics as that is what I am interested in.\n",
    "    df = df[df['Persoonskenmerken'].str.contains('Leeftijd') | df['Persoonskenmerken'].str.contains('Totaal') == True]\n",
    "    df = df[df['Marges'].str.contains('Waarde') == True]\n",
    "    # getting only the data from the specified year\n",
    "    df = df[df['Perioden'].str.contains(year) == True]\n",
    "    \n",
    "    # changing the data to numbers\n",
    "    for columns in df:\n",
    "        if columns != 'Persoonskenmerken' and columns != 'Perioden':\n",
    "            df[columns] =  pd.to_numeric(df[columns], errors='coerce')\n",
    "            df = df.fillna(0)\n",
    "    \n",
    "    # if statement to determine which columns to take & rename\n",
    "    if df_type == 'safety':\n",
    "        df = df[['Persoonskenmerken','VoeltZichWelEensOnveilig_1','VoeltZichVaakOnveilig_2','VanZakkenrollerij_3','VanBerovingOpStraat_4','VanInbraakInWoning_5','VanMishandeling_6']]\n",
    "        \n",
    "        \n",
    "    else:\n",
    "        # Obtaining only the columns I am interested in\n",
    "        df = df[['Persoonskenmerken','AantalDelicten_1', 'PogingTotZakkenrollerij_66', 'Zakkenrollerij_67', 'PogingTotBeroving_68','Beroving_69', 'PogingTotInbraak_38', 'Mishandeling_31']]\n",
    "        # Adding attemted  robbery and successfull robbery together.\n",
    "        df['Reported_pickpocketing'] = df['PogingTotZakkenrollerij_66'] + df['Zakkenrollerij_67']\n",
    "        df['Reported_robbery'] = df['PogingTotBeroving_68'] + df['Beroving_69']\n",
    "        # dropping the columns that were added together.\n",
    "        df = df.drop(['PogingTotZakkenrollerij_66','Zakkenrollerij_67','PogingTotBeroving_68','Beroving_69'], axis=1)\n",
    "        \n",
    "    df = df.rename(columns={'VoeltZichWelEensOnveilig_1':'Has_Felt_Unsafe', 'VoeltZichVaakOnveilig_2':'Has_Felt_Unsafe_often', 'VanZakkenrollerij_3':'Unsafe_pickpocketing',\n",
    "                            'VanBerovingOpStraat_4':'Unsafe_robbery','VanInbraakInWoning_5':'Unsafe_burglary','VanMishandeling_6':'Unsafe_abuse',\n",
    "                            'AantalDelicten_1':'Reported_total_crime','PogingTotInbraak_38':'Reported_burglary','Mishandeling_31':'Reported_abuse'})\n",
    "    \n",
    "    df = df.head(1).append(df.tail(7))\n",
    "    \n",
    "    return df\n"
   ]
  },
  {
   "cell_type": "code",
   "execution_count": 59,
   "metadata": {},
   "outputs": [],
   "source": [
    "def police_file_filter(df,year='2019'):\n",
    "    # getting only the data from the specified year\n",
    "    df = df[df['Perioden'].str.contains(year) == True]\n",
    "    # Obtaining only the columns i am interested in.\n",
    "    df = df[['Soort diefstal','Geregistreerde diefstallen/Totaal geregistreerde diefstallen (aantal)']]\n",
    "    # renaming the columns to english and more readable names.\n",
    "    df = df.rename(columns={'Geregistreerde diefstallen/Totaal geregistreerde diefstallen (aantal)':'Total_amount','Soort diefstal':'Type_Crime'})\n",
    "    df = df.reset_index()\n",
    "   \n",
    "    # reshaping the data, could not manage to find a faster way to do it with reshape, pivot, stack or melt.\n",
    "    new_df = pd.DataFrame()\n",
    "    new_df = new_df.append(df['Total_amount'])\n",
    "    new_df = new_df.rename(columns={0:'Pol_total_theft',1:'Pol1',2:'Pol_pickpocketing',3:'woning/schuur',4:'uit woning',5:'garage',6:'Pol2'})\n",
    "    \n",
    "    # Combining certain columns into 1.\n",
    "    new_df['Pol_total_burglary'] = new_df['uit woning'] + new_df['garage'] + new_df['woning/schuur']\n",
    "    new_df['Pol_total_robbery'] = new_df['Pol1'] + new_df['Pol2']\n",
    "    new_df = new_df.drop(['uit woning','garage','woning/schuur','Pol1','Pol2'],axis=1)\n",
    "    \n",
    "    return new_df\n",
    "    "
   ]
  },
  {
   "cell_type": "code",
   "execution_count": 60,
   "metadata": {},
   "outputs": [],
   "source": [
    "# Applying the function and merging the result.\n",
    "# There is no data from 2018 in the veiligheidsmonitor files\n",
    "year_list = ['2012','2013','2014','2015','2016','2017','2019']\n",
    "safe = {}\n",
    "crime = {}\n",
    "both = {}\n",
    "police = pd.DataFrame()\n",
    "both_total = pd.DataFrame()\n",
    "\n",
    "for year in year_list:\n",
    "    crime[year] = safety_file_filter(crime_stat, df_type='crime', year = year)\n",
    "    safe[year] = safety_file_filter(safe_per, df_type='safety', year = year)\n",
    "    # merging the two dataframes together\n",
    "    both[year] = crime[year].merge(safe[year], how='inner', left_on='Persoonskenmerken', right_on='Persoonskenmerken')\n",
    "    # appending the years of the police file together\n",
    "    police = police.append(police_file_filter(crime_police, year = year), ignore_index=True)\n",
    "    \n",
    "    # appending the total persons from the 'both' file together\n",
    "    tempdf = both[year][both[year]['Persoonskenmerken'].str.contains('Totaal personen') == True]\n",
    "    both_total = both_total.append(tempdf)"
   ]
  },
  {
   "cell_type": "code",
   "execution_count": 61,
   "metadata": {},
   "outputs": [],
   "source": [
    "# Adding the year values back to the police stats file.\n",
    "police['year'] = year_list\n",
    "both_total['year'] = year_list\n",
    "\n",
    "bothboth = both_total.merge(police, how='inner', left_on='year', right_on='year')"
   ]
  },
  {
   "cell_type": "markdown",
   "metadata": {},
   "source": [
    "<h1> Plotting graphs </h1>"
   ]
  },
  {
   "cell_type": "code",
   "execution_count": 62,
   "metadata": {},
   "outputs": [],
   "source": [
    "pairings = {'Total':        ['Has_Felt_Unsafe', 'Reported_total_crime'],\n",
    "            'Pickpocketing':['Unsafe_pickpocketing', 'Reported_pickpocketing'],\n",
    "            'Robbery':      ['Unsafe_robbery', 'Reported_robbery'],\n",
    "            'Burglary':     ['Unsafe_burglary', 'Reported_burglary'],\n",
    "            'Abuse':        ['Unsafe_abuse', 'Reported_abuse']\n",
    "            }"
   ]
  },
  {
   "cell_type": "code",
   "execution_count": 63,
   "metadata": {},
   "outputs": [],
   "source": [
    "def interact_bar(df_key,key):\n",
    "       \n",
    "    merge_df = both[df_key]\n",
    "    \n",
    "    fig = px.bar(merge_df, x='Persoonskenmerken', y=pairings[key], title='Unsafety vs Reported crime per age group in ' + df_key, barmode='group',\n",
    "                 color_discrete_map={                       \n",
    "                                'some_group': '#88FF00',            # These aren't even the colors that show up nor does some group exists \n",
    "                                'some_other_group': '#7700ff'       # but removing them does change the colors for some reason.\n",
    "                },\n",
    "                 labels={\n",
    "                     \"Persoonskenmerken\": \"Age groups\",\n",
    "                     \"value\": \"% of total population\",\n",
    "                     \"variable\": \"\"\n",
    "                 },\n",
    "            )\n",
    "    \n",
    "    fig.update_layout({\n",
    "    'template': 'plotly_dark',\n",
    "    #'plot_bgcolor': 'rgba(0, 0, 0, 0)',\n",
    "    #'paper_bgcolor': 'rgba(0, 0, 0, 0)',\n",
    "    })\n",
    "    \n",
    "    return fig"
   ]
  },
  {
   "cell_type": "code",
   "execution_count": 64,
   "metadata": {},
   "outputs": [],
   "source": [
    "def interact_barbelplot(df_key,key):\n",
    "\n",
    "    merge_df = both[df_key]\n",
    "\n",
    "    fig = px.scatter(merge_df, x=pairings[key], y=merge_df['Persoonskenmerken'], labels={'variable':''},\n",
    "                    color_discrete_map={\n",
    "                                'some_group': '#88FF00',\n",
    "                                'some_other_group': '#7700ff'}\n",
    "                )\n",
    "                    \n",
    "    fig.update_layout(title_text = 'Unsafety vs Reported crime per age group in ' + df_key,\n",
    "        xaxis_title = \"% of total population\", yaxis_title = 'Age groups')\n",
    "    \n",
    "    \n",
    "    for i in range(merge_df.shape[0]):\n",
    "        fig.add_shape(\n",
    "            type='line',\n",
    "            x0=merge_df[pairings[key][0]].iloc[i], y0=merge_df.index[i], \n",
    "            x1=merge_df[pairings[key][1]].iloc[i], y1=merge_df.index[i],\n",
    "            line_color=\"#88FF00\")\n",
    "        \n",
    "    if key == 'Total':\n",
    "        fig.update_xaxes(range=[0, 60])\n",
    "    elif key == 'Burglary':\n",
    "        fig.update_xaxes(range=[0, 18])\n",
    "    else:\n",
    "        fig.update_xaxes(range=[-1, 9])\n",
    "        \n",
    "    # Changing the layout\n",
    "    fig.update_layout({\n",
    "    'template': 'plotly_dark',\n",
    "    #'plot_bgcolor': 'rgba(0, 0, 0, 0)',\n",
    "    #'paper_bgcolor': 'rgba(0, 0, 0, 0)',\n",
    "    })\n",
    "    \n",
    "    # Giving the markers a green shading.\n",
    "    fig.update_traces(marker=dict(size=15,\n",
    "                            line=dict(width=1,\n",
    "                                    color='#88FF00')),\n",
    "                selector=dict(mode='markers'))\n",
    "    \n",
    "    \n",
    "    \n",
    "    return fig"
   ]
  },
  {
   "cell_type": "code",
   "execution_count": 65,
   "metadata": {},
   "outputs": [],
   "source": [
    "def heatmap_plotter(df_key, key, all_sets):\n",
    "    \n",
    "    # Using the .corr() function to get the correlation between the fields.\n",
    "    dataset = both[df_key].corr()\n",
    "    \n",
    "    safe_col = safe[df_key].columns\n",
    "    crime_col = crime[df_key].columns\n",
    "    \n",
    "    if all_sets == False:\n",
    "        correlation = dataset[safe_col[1:]].loc[crime_col[1:]]    \n",
    "    else:\n",
    "        # Getting only the pairings rows & columns\n",
    "        correlation = dataset[pairings[key]].loc[pairings[key]]\n",
    "        \n",
    "    fig = px.imshow(correlation, aspect=\"auto\", zmin=0, zmax=1,color_continuous_scale='Aggrnyl')\n",
    "    \n",
    "    fig.update_layout(title_text = 'Correlation between Safety feeling  ' + df_key,\n",
    "        xaxis_title = \"% of total population\", yaxis_title = 'Age groups')\n",
    "    \n",
    "    fig.update_layout({\n",
    "    'template': 'plotly_dark',\n",
    "    #'plot_bgcolor': 'rgba(0, 0, 0, 0)',\n",
    "    #'paper_bgcolor': 'rgba(0, 0, 0, 0)',\n",
    "    })\n",
    "    \n",
    "    return fig"
   ]
  },
  {
   "cell_type": "code",
   "execution_count": 66,
   "metadata": {},
   "outputs": [],
   "source": [
    "def monitor_line(data_set):\n",
    "    \n",
    "    df = both_total\n",
    "    \n",
    "    \n",
    "    # Deciding which data to show. Altough it is always possible to just press the lines to remove them\n",
    "    if data_set == 'Both':\n",
    "        y_col = both_total.iloc[:,1:-1].columns\n",
    "    elif data_set == 'Reported Safety':\n",
    "        y_col = both_total.iloc[:,6:-1].columns\n",
    "    elif data_set == 'Reported crimes':\n",
    "        y_col = both_total.iloc[:,1:-7].columns\n",
    "    \n",
    "    \n",
    "    fig = px.line(df, x='year',y = y_col,\n",
    "                   color_discrete_map={\n",
    "                                'some_group': '#88FF00',\n",
    "                                'some_other_group': '#7700ff'\n",
    "                })\n",
    "    \n",
    "    fig.update_layout(title_text = \"\"\"Line graph of 'veiligheidsmonitor' statistics per year  \"\"\" ,\n",
    "        xaxis_title = \"% of people affected\", yaxis_title = 'Years',\n",
    "        )\n",
    "    \n",
    "    fig.update_layout({\n",
    "    'template': 'plotly_dark',\n",
    "    #'plot_bgcolor': 'rgba(0, 0, 0, 0)',\n",
    "    #'paper_bgcolor': 'rgba(0, 0, 0, 0)',\n",
    "    })\n",
    "    \n",
    "    \n",
    "    return fig"
   ]
  },
  {
   "cell_type": "code",
   "execution_count": 67,
   "metadata": {},
   "outputs": [],
   "source": [
    "def police_bar():\n",
    "    df = police\n",
    "    \n",
    "    fig = px.line(df,x='year',y=['Pol_total_theft', 'Pol_pickpocketing', 'Pol_total_burglary', 'Pol_total_robbery'],\n",
    "                   color_discrete_map={\n",
    "                                'some_group': '#88FF00',\n",
    "                                'some_other_group': '#7700ff'\n",
    "                })\n",
    "    \n",
    "    fig.update_layout(title_text = 'Line graph of police registered crimes per year  ' ,\n",
    "        yaxis_title = \"Amount of reports\", xaxis_title = 'Years')\n",
    "    \n",
    "    fig.update_layout({\n",
    "    'template': 'plotly_dark',\n",
    "    #'plot_bgcolor': 'rgba(0, 0, 0, 0)',\n",
    "    #'paper_bgcolor': 'rgba(0, 0, 0, 0)',\n",
    "    })\n",
    "    \n",
    "    \n",
    "    return fig\n",
    "    "
   ]
  },
  {
   "cell_type": "markdown",
   "metadata": {},
   "source": [
    "<h2> Adding widgets to the plot functions </h2>"
   ]
  },
  {
   "cell_type": "code",
   "execution_count": 68,
   "metadata": {},
   "outputs": [],
   "source": [
    "pairing_selection = pn.widgets.RadioButtonGroup(options = ['Total','Pickpocketing','Robbery','Burglary','Abuse'], button_type = 'success')\n",
    "year_selection = pn.widgets.Select(name='Year', options=['2012', '2013', '2014', '2015', '2016', '2017', '2019'], value='2019')\n",
    "yes_no = pn.widgets.Checkbox(name='Only show selected pairs')\n",
    "dataset_select = pn.widgets.Select(name='Which type of data:', options=['Both','Reported crimes','Reported Safety'], value='Both')\n",
    "\n",
    "\n",
    "interactive_barchart = pn.interact(interact_bar, df_key = year_selection ,key = pairing_selection)\n",
    "interactive_barbell = pn.interact(interact_barbelplot, df_key = year_selection, key = pairing_selection)\n",
    "interactive_heatmap = pn.interact(heatmap_plotter, df_key = year_selection, key = pairing_selection, all_sets = yes_no)\n",
    "interactive_linegraph = pn.interact(monitor_line, data_set = dataset_select)"
   ]
  },
  {
   "cell_type": "code",
   "execution_count": 69,
   "metadata": {},
   "outputs": [],
   "source": [
    "#pn.serve(pn.Row(interactive_heatmap[0], pn.Column(interactive_barbell[1], interactive_barchart[1]), interactive_heatmap[1]))"
   ]
  },
  {
   "cell_type": "code",
   "execution_count": 70,
   "metadata": {},
   "outputs": [],
   "source": [
    "def tabs():\n",
    "    # create widget\n",
    "    tabs = pn.Tabs(dynamic=True)\n",
    "    \n",
    "    age_group = pn.Column(\n",
    "        \"\"\"<h1>The correlation between perceived safety & actual crime rates </h1> \"\"\", \n",
    "        pn.Row(\n",
    "            interactive_barchart[1], interactive_heatmap[1]),\n",
    "        interactive_barbell[1]\n",
    "            )\n",
    "    \n",
    "    per_year = pn.Column(\n",
    "        \"\"\"<h1>Yearly trends between statistics </h1> \"\"\",\n",
    "        interactive_linegraph[1], \n",
    "        police_bar())\n",
    "    \n",
    "\n",
    "    tabs.extend([('Per Age Group',age_group),\n",
    "                 ('Per year',per_year),\n",
    "                 ])\n",
    "\n",
    "    return tabs"
   ]
  },
  {
   "cell_type": "markdown",
   "metadata": {},
   "source": [
    "<h1> Dashboard </h1>"
   ]
  },
  {
   "cell_type": "code",
   "execution_count": 71,
   "metadata": {},
   "outputs": [],
   "source": [
    "def prog1_dash():\n",
    "    template = pn.template.FastListTemplate(\n",
    "        title=\"\"\"<h3> Correlation between safety & crime </h3>\"\"\",\n",
    "        header_background='#6FD100',\n",
    "        accent_base_color='#88FF00',\n",
    "        #background_color='#000000',\n",
    "        neutral_color='#000000',\n",
    "        logo=\"https://cdn.freebiesupply.com/logos/large/2x/hanzehogeschool-logo-png-transparent.png\",\n",
    "        sidebar_width=380,\n",
    "        theme=DarkTheme)\n",
    "\n",
    "    # adding different components to the sidebar.\n",
    "    #pn.config.sizing_mode='stretch_width'\n",
    "    template.sidebar.append(pairing_selection)\n",
    "    template.sidebar.append(pn.layout.Divider())\n",
    "    template.sidebar.append(pn.Column(\n",
    "        year_selection, \n",
    "        dataset_select))\n",
    "    template.sidebar.append(pn.layout.Divider())\n",
    "    template.sidebar.append(yes_no)\n",
    "    template.sidebar.append(pn.layout.Divider())\n",
    "\n",
    "\n",
    "    template.main.append(tabs())\n",
    "                         \n",
    "            \n",
    "\n",
    "    return template"
   ]
  },
  {
   "cell_type": "code",
   "execution_count": 72,
   "metadata": {},
   "outputs": [
    {
     "name": "stdout",
     "output_type": "stream",
     "text": [
      "Launching server at http://localhost:64817\n"
     ]
    },
    {
     "data": {
      "text/plain": [
       "<bokeh.server.server.Server at 0x1bd35ee4940>"
      ]
     },
     "execution_count": 72,
     "metadata": {},
     "output_type": "execute_result"
    }
   ],
   "source": [
    "prog1 = {\n",
    "    \"\":prog1_dash\n",
    "    }\n",
    "\n",
    "pn.serve(prog1)"
   ]
  },
  {
   "cell_type": "code",
   "execution_count": null,
   "metadata": {},
   "outputs": [],
   "source": []
  }
 ],
 "metadata": {
  "kernelspec": {
   "display_name": "Python 3",
   "language": "python",
   "name": "python3"
  },
  "language_info": {
   "codemirror_mode": {
    "name": "ipython",
    "version": 3
   },
   "file_extension": ".py",
   "mimetype": "text/x-python",
   "name": "python",
   "nbconvert_exporter": "python",
   "pygments_lexer": "ipython3",
   "version": "3.9.7"
  }
 },
 "nbformat": 4,
 "nbformat_minor": 2
}
